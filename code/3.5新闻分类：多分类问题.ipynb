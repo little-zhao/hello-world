{
 "cells": [
  {
   "cell_type": "code",
   "execution_count": 1,
   "metadata": {},
   "outputs": [
    {
     "name": "stdout",
     "output_type": "stream",
     "text": [
      "2.0.0\n"
     ]
    }
   ],
   "source": [
    "import tensorflow as tf\n",
    "print(tf.__version__)"
   ]
  },
  {
   "cell_type": "markdown",
   "metadata": {},
   "source": [
    "# 新闻分类：多分类问题\n",
    "\n",
    "在这一节中，我们将建立一个网络，将路透社新闻分为46个不同的互斥主题。由于我们有许多类，这个问题是“多分类”的一个实例，而且由于每个数据点只应被分类为一个类别，所以这个问题更具体地说是一个“单标签、多分类”的问题。如果每个数据点都属于多个类别，那么我们将面临一个“多标签、多分类”的问题。"
   ]
  },
  {
   "cell_type": "markdown",
   "metadata": {},
   "source": [
    "# 路透社数据集\n",
    "我们将使用路透社(Reuters)1986年发布的一组短讯及其主题--路透社数据集(ReutersDataSet)。这是一个非常简单，广泛使用的分类数据集，用于文本分类。它包括46个不同的主题；有些主题比其他主题更有代表性，但每个主题在训练集中至少有10个例子。\n",
    "\n",
    "与IMDB和MNIST一样，路透社数据集被打包为Keras的一部分。"
   ]
  },
  {
   "cell_type": "code",
   "execution_count": 2,
   "metadata": {},
   "outputs": [
    {
     "name": "stdout",
     "output_type": "stream",
     "text": [
      "Downloading data from https://storage.googleapis.com/tensorflow/tf-keras-datasets/reuters.npz\n",
      "2113536/2110848 [==============================] - 2s 1us/step\n"
     ]
    }
   ],
   "source": [
    "import tensorflow as tf\n",
    "\n",
    "# 3-12 加载数据集\n",
    "from tensorflow.keras.datasets import reuters\n",
    "\n",
    "(train_data, train_labels), (test_data, test_labels) = reuters.load_data(num_words=10000)"
   ]
  },
  {
   "cell_type": "markdown",
   "metadata": {},
   "source": [
    "# \n",
    "与IMDB数据集一样，参数num_words=10000将数据限制为数据中最常见的10,000个单词。\n",
    "\n",
    "我们有8,982个训练实例和2,246个测试实例"
   ]
  },
  {
   "cell_type": "code",
   "execution_count": 3,
   "metadata": {},
   "outputs": [
    {
     "data": {
      "text/plain": [
       "8982"
      ]
     },
     "execution_count": 3,
     "metadata": {},
     "output_type": "execute_result"
    }
   ],
   "source": [
    "len(train_data)"
   ]
  },
  {
   "cell_type": "code",
   "execution_count": 4,
   "metadata": {},
   "outputs": [
    {
     "data": {
      "text/plain": [
       "2246"
      ]
     },
     "execution_count": 4,
     "metadata": {},
     "output_type": "execute_result"
    }
   ],
   "source": [
    "len(test_data)"
   ]
  },
  {
   "cell_type": "code",
   "execution_count": 5,
   "metadata": {
    "collapsed": true
   },
   "outputs": [
    {
     "data": {
      "text/plain": [
       "[1,\n",
       " 245,\n",
       " 273,\n",
       " 207,\n",
       " 156,\n",
       " 53,\n",
       " 74,\n",
       " 160,\n",
       " 26,\n",
       " 14,\n",
       " 46,\n",
       " 296,\n",
       " 26,\n",
       " 39,\n",
       " 74,\n",
       " 2979,\n",
       " 3554,\n",
       " 14,\n",
       " 46,\n",
       " 4689,\n",
       " 4329,\n",
       " 86,\n",
       " 61,\n",
       " 3499,\n",
       " 4795,\n",
       " 14,\n",
       " 61,\n",
       " 451,\n",
       " 4329,\n",
       " 17,\n",
       " 12]"
      ]
     },
     "execution_count": 5,
     "metadata": {},
     "output_type": "execute_result"
    }
   ],
   "source": [
    "train_data[10]"
   ]
  },
  {
   "cell_type": "markdown",
   "metadata": {},
   "source": [
    "# \n",
    "以下是您如何将其解码回文字，以防您感到好奇："
   ]
  },
  {
   "cell_type": "code",
   "execution_count": 6,
   "metadata": {},
   "outputs": [
    {
     "name": "stdout",
     "output_type": "stream",
     "text": [
      "Downloading data from https://storage.googleapis.com/tensorflow/tf-keras-datasets/reuters_word_index.json\n",
      "557056/550378 [==============================] - 1s 2us/step\n"
     ]
    }
   ],
   "source": [
    "word_index = reuters.get_word_index()\n",
    "\n",
    "reverse_word_index = dict([(value, key) for (key, value) in word_index.items()])\n",
    "\n",
    "decoded_newswire = ' '.join([reverse_word_index.get(i - 3, '?') for i in train_data[0]])"
   ]
  },
  {
   "cell_type": "code",
   "execution_count": 7,
   "metadata": {},
   "outputs": [
    {
     "data": {
      "text/plain": [
       "'? ? ? said as a result of its december acquisition of space co it expects earnings per share in 1987 of 1 15 to 1 30 dlrs per share up from 70 cts in 1986 the company said pretax net should rise to nine to 10 mln dlrs from six mln dlrs in 1986 and rental operation revenues to 19 to 22 mln dlrs from 12 5 mln dlrs it said cash flow per share this year should be 2 50 to three dlrs reuter 3'"
      ]
     },
     "execution_count": 7,
     "metadata": {},
     "output_type": "execute_result"
    }
   ],
   "source": [
    "decoded_newswire"
   ]
  },
  {
   "cell_type": "markdown",
   "metadata": {},
   "source": [
    "# \n",
    "与示例关联的标签是介于0到45之间的整数：主题索引。"
   ]
  },
  {
   "cell_type": "code",
   "execution_count": 8,
   "metadata": {},
   "outputs": [
    {
     "data": {
      "text/plain": [
       "3"
      ]
     },
     "execution_count": 8,
     "metadata": {},
     "output_type": "execute_result"
    }
   ],
   "source": [
    "train_labels[10]"
   ]
  },
  {
   "cell_type": "markdown",
   "metadata": {},
   "source": [
    "# 准备数据\n",
    "我们可以使用与前面示例中完全相同的代码对数据进行矢量化："
   ]
  },
  {
   "cell_type": "code",
   "execution_count": 9,
   "metadata": {},
   "outputs": [],
   "source": [
    "# 3-14 编码数据\n",
    "import numpy as np\n",
    "\n",
    "def vectorize_sequences(sequences, dimension=10000):\n",
    "    results = np.zeros((len(sequences), dimension))\n",
    "    for i, sequence in enumerate(sequences):\n",
    "        results[i, sequence] = 1.\n",
    "    return results\n",
    "\n",
    "# 数据向量化\n",
    "x_train = vectorize_sequences(train_data)\n",
    "\n",
    "x_test = vectorize_sequences(test_data)"
   ]
  },
  {
   "cell_type": "markdown",
   "metadata": {},
   "source": [
    "# \n",
    "要将标签向量化，有两种方法：我们可以将标签列表转换为整数张量，或者使用 one-hot编码。热编码是一种广泛使用的分类数据格式，也称为“分类编码”。"
   ]
  },
  {
   "cell_type": "code",
   "execution_count": 10,
   "metadata": {},
   "outputs": [],
   "source": [
    "def to_one_hot(labels, dimension=46):\n",
    "    results = np.zeros((len(labels), dimension))\n",
    "    for i, label in enumerate(labels):\n",
    "        results[i, label] = 1.\n",
    "    return results\n",
    "\n",
    "\n",
    "one_hot_train_labels = to_one_hot(train_labels)\n",
    "\n",
    "one_hot_test_labels = to_one_hot(test_labels)"
   ]
  },
  {
   "cell_type": "code",
   "execution_count": 19,
   "metadata": {},
   "outputs": [],
   "source": [
    "# 使用tf内置方法也可以实现这个操作\n",
    "one_hot_train_labels = tf.one_hot(train_labels,depth=46)\n",
    "one_hot_test_labels = tf.one_hot(test_labels,depth=46)"
   ]
  },
  {
   "cell_type": "markdown",
   "metadata": {},
   "source": [
    "# 构建网络\n",
    "这个分类问题看起来与我们以前的电影评论分类问题非常相似：在这两种情况下，我们都试图对简短的文本片段进行分类。然而，这里有一个新的限制：输出类的数量从2增加到46，即输出空间的维数要大得多。\n",
    "\n",
    "在一堆Dense就像我们所使用的那样，每一层只能访问上一层输出中的信息。如果某一层删除了一些与分类问题相关的信息，则该信息永远无法被后续层恢复：每一层都有可能成为“信息瓶颈”。在前面的例子中，我们使用的是16维中间层，但是16维空间可能太有限，无法分离46个不同的类：这样的小层可能充当信息瓶颈，永久丢弃相关信息。\n",
    "\n",
    "因此，我们将使用更大的层。让我们用64个单元："
   ]
  },
  {
   "cell_type": "code",
   "execution_count": 20,
   "metadata": {},
   "outputs": [],
   "source": [
    "# 3-15模型定义\n",
    "from tensorflow.keras import models\n",
    "from tensorflow.keras import layers\n",
    "\n",
    "model = models.Sequential()\n",
    "model.add(layers.Dense(64, activation='relu', input_shape=(10000,)))\n",
    "model.add(layers.Dense(64, activation='relu'))\n",
    "model.add(layers.Dense(46, activation='softmax'))"
   ]
  },
  {
   "cell_type": "code",
   "execution_count": 21,
   "metadata": {},
   "outputs": [],
   "source": [
    "# 3-16编译模型\n",
    "model.compile(optimizer='rmsprop',\n",
    "              loss='categorical_crossentropy',\n",
    "              metrics=['accuracy'])"
   ]
  },
  {
   "cell_type": "markdown",
   "metadata": {},
   "source": [
    "# \n",
    "我们在训练数据中留出1000个样本作为验证集\n"
   ]
  },
  {
   "cell_type": "code",
   "execution_count": 22,
   "metadata": {},
   "outputs": [],
   "source": [
    "# 3-17留出验证集\n",
    "x_val = x_train[:1000]\n",
    "partial_x_train = x_train[1000:]\n",
    "\n",
    "y_val = one_hot_train_labels[:1000]\n",
    "partial_y_train = one_hot_train_labels[1000:]"
   ]
  },
  {
   "cell_type": "code",
   "execution_count": 23,
   "metadata": {},
   "outputs": [
    {
     "name": "stdout",
     "output_type": "stream",
     "text": [
      "Train on 7982 samples, validate on 1000 samples\n",
      "Epoch 1/20\n",
      "7982/7982 [==============================] - 3s 390us/sample - loss: 2.6722 - accuracy: 0.5471 - val_loss: 1.7763 - val_accuracy: 0.6420\n",
      "Epoch 2/20\n",
      "7982/7982 [==============================] - 1s 130us/sample - loss: 1.4353 - accuracy: 0.7046 - val_loss: 1.3436 - val_accuracy: 0.7100\n",
      "Epoch 3/20\n",
      "7982/7982 [==============================] - 1s 170us/sample - loss: 1.0657 - accuracy: 0.7754 - val_loss: 1.1744 - val_accuracy: 0.7450\n",
      "Epoch 4/20\n",
      "7982/7982 [==============================] - 3s 381us/sample - loss: 0.8511 - accuracy: 0.8185 - val_loss: 1.0726 - val_accuracy: 0.7650\n",
      "Epoch 5/20\n",
      "7982/7982 [==============================] - 1s 123us/sample - loss: 0.6794 - accuracy: 0.8530 - val_loss: 1.0241 - val_accuracy: 0.7820\n",
      "Epoch 6/20\n",
      "7982/7982 [==============================] - 1s 127us/sample - loss: 0.5510 - accuracy: 0.8822 - val_loss: 0.9563 - val_accuracy: 0.7930\n",
      "Epoch 7/20\n",
      "7982/7982 [==============================] - 1s 117us/sample - loss: 0.4411 - accuracy: 0.9052 - val_loss: 0.9149 - val_accuracy: 0.8100\n",
      "Epoch 8/20\n",
      "7982/7982 [==============================] - 1s 119us/sample - loss: 0.3610 - accuracy: 0.9240 - val_loss: 0.9045 - val_accuracy: 0.8170\n",
      "Epoch 9/20\n",
      "7982/7982 [==============================] - 1s 127us/sample - loss: 0.2954 - accuracy: 0.9370 - val_loss: 0.9210 - val_accuracy: 0.8120\n",
      "Epoch 10/20\n",
      "7982/7982 [==============================] - 1s 142us/sample - loss: 0.2523 - accuracy: 0.9415 - val_loss: 0.9117 - val_accuracy: 0.8170\n",
      "Epoch 11/20\n",
      "7982/7982 [==============================] - 1s 129us/sample - loss: 0.2125 - accuracy: 0.9468 - val_loss: 0.9254 - val_accuracy: 0.8200\n",
      "Epoch 12/20\n",
      "7982/7982 [==============================] - 1s 131us/sample - loss: 0.1929 - accuracy: 0.9490 - val_loss: 0.9699 - val_accuracy: 0.8190\n",
      "Epoch 13/20\n",
      "7982/7982 [==============================] - 1s 124us/sample - loss: 0.1635 - accuracy: 0.9529 - val_loss: 0.9750 - val_accuracy: 0.8100\n",
      "Epoch 14/20\n",
      "7982/7982 [==============================] - 1s 113us/sample - loss: 0.1516 - accuracy: 0.9548 - val_loss: 0.9965 - val_accuracy: 0.8080\n",
      "Epoch 15/20\n",
      "7982/7982 [==============================] - 1s 112us/sample - loss: 0.1445 - accuracy: 0.9565 - val_loss: 1.0904 - val_accuracy: 0.7950\n",
      "Epoch 16/20\n",
      "7982/7982 [==============================] - 1s 113us/sample - loss: 0.1314 - accuracy: 0.9569 - val_loss: 0.9975 - val_accuracy: 0.8110\n",
      "Epoch 17/20\n",
      "7982/7982 [==============================] - 1s 113us/sample - loss: 0.1230 - accuracy: 0.9588 - val_loss: 1.0327 - val_accuracy: 0.8130\n",
      "Epoch 18/20\n",
      "7982/7982 [==============================] - 1s 122us/sample - loss: 0.1193 - accuracy: 0.9558 - val_loss: 1.0463 - val_accuracy: 0.8150\n",
      "Epoch 19/20\n",
      "7982/7982 [==============================] - 1s 129us/sample - loss: 0.1114 - accuracy: 0.9594 - val_loss: 1.0949 - val_accuracy: 0.7930\n",
      "Epoch 20/20\n",
      "7982/7982 [==============================] - 1s 115us/sample - loss: 0.1148 - accuracy: 0.9573 - val_loss: 1.1554 - val_accuracy: 0.7890\n"
     ]
    }
   ],
   "source": [
    "# 3-18训练模型\n",
    "history = model.fit(partial_x_train,\n",
    "                    partial_y_train,\n",
    "                    epochs=20,\n",
    "                    batch_size=512,\n",
    "                    validation_data=(x_val, y_val))"
   ]
  },
  {
   "cell_type": "code",
   "execution_count": 28,
   "metadata": {},
   "outputs": [
    {
     "data": {
      "image/png": "[encoded data removed]",
      "text/plain": [
       "<Figure size 432x288 with 1 Axes>"
      ]
     },
     "metadata": {
      "needs_background": "light"
     },
     "output_type": "display_data"
    }
   ],
   "source": [
    "# 3-19绘制训练损失和验证损失\n",
    "import matplotlib.pyplot as plt\n",
    "\n",
    "loss = history.history['loss']\n",
    "val_loss = history.history['val_loss']\n",
    "\n",
    "epochs = range(1, len(loss) + 1)\n",
    "\n",
    "plt.plot(epochs, loss, 'bo', label='Training loss')\n",
    "plt.plot(epochs, val_loss, 'b', label='Validation loss')\n",
    "plt.title('Training and validation loss')\n",
    "plt.xlabel('Epochs')\n",
    "plt.ylabel('Loss')\n",
    "plt.legend()\n",
    "\n",
    "plt.show()"
   ]
  },
  {
   "cell_type": "code",
   "execution_count": 27,
   "metadata": {},
   "outputs": [
    {
     "data": {
      "image/png": "[encoded data removed]",
      "text/plain": [
       "<Figure size 432x288 with 1 Axes>"
      ]
     },
     "metadata": {
      "needs_background": "light"
     },
     "output_type": "display_data"
    }
   ],
   "source": [
    "# 3-20绘制训练精度和验证精度\n",
    "plt.clf()   \n",
    "\n",
    "acc = history.history['accuracy']\n",
    "val_acc = history.history['val_accuracy']\n",
    "\n",
    "plt.plot(epochs, acc, 'bo', label='Training acc')\n",
    "plt.plot(epochs, val_acc, 'b', label='Validation acc')\n",
    "plt.title('Training and validation accuracy')\n",
    "plt.xlabel('Epochs')\n",
    "plt.ylabel('Loss')\n",
    "plt.legend()\n",
    "\n",
    "plt.show()"
   ]
  },
  {
   "cell_type": "markdown",
   "metadata": {},
   "source": [
    "# \n",
    "网络在训练了9次后开始过拟合，我们从头开始训练一个新网络，共9个轮次。\n"
   ]
  },
  {
   "cell_type": "code",
   "execution_count": 29,
   "metadata": {},
   "outputs": [
    {
     "name": "stdout",
     "output_type": "stream",
     "text": [
      "Train on 7982 samples, validate on 1000 samples\n",
      "Epoch 1/8\n",
      "7982/7982 [==============================] - 1s 156us/sample - loss: 2.4822 - accuracy: 0.5113 - val_loss: 1.6754 - val_accuracy: 0.6330\n",
      "Epoch 2/8\n",
      "7982/7982 [==============================] - 1s 114us/sample - loss: 1.3918 - accuracy: 0.6969 - val_loss: 1.2992 - val_accuracy: 0.7120\n",
      "Epoch 3/8\n",
      "7982/7982 [==============================] - 1s 120us/sample - loss: 1.0468 - accuracy: 0.7745 - val_loss: 1.1453 - val_accuracy: 0.7530\n",
      "Epoch 4/8\n",
      "7982/7982 [==============================] - 1s 107us/sample - loss: 0.8286 - accuracy: 0.8222 - val_loss: 1.0348 - val_accuracy: 0.7860\n",
      "Epoch 5/8\n",
      "7982/7982 [==============================] - 1s 107us/sample - loss: 0.6568 - accuracy: 0.8618 - val_loss: 0.9566 - val_accuracy: 0.8050\n",
      "Epoch 6/8\n",
      "7982/7982 [==============================] - 1s 119us/sample - loss: 0.5273 - accuracy: 0.8915 - val_loss: 0.9215 - val_accuracy: 0.8120\n",
      "Epoch 7/8\n",
      "7982/7982 [==============================] - 1s 107us/sample - loss: 0.4216 - accuracy: 0.9139 - val_loss: 0.9269 - val_accuracy: 0.8070\n",
      "Epoch 8/8\n",
      "7982/7982 [==============================] - 1s 120us/sample - loss: 0.3419 - accuracy: 0.9275 - val_loss: 0.9017 - val_accuracy: 0.8100\n",
      "2246/1 [====================================================================================================================================================================================================================================================================================================================================================================================================================================================================================================================================================================================================================================================================================================================================================================================================================================================================================================================================================================================================================================================================================================================================================================================================================================================================================================================================================================================================================================================================================================================================================================================================================================================================================================================================================================================================================================================================================================================================================================================================================================================================================================================================================================================================================================================================================================================================================================================================================================================================================================================================================================================================================================================================================================================================================================================================================================================================================================================================================================================================================================================================================================================================================================================================================================================================================================================================================================================================================================================================================================================================================================================================================================================================================================================================================================================================================================================================================================================================================================================================================================================================================================================================================================================================================================================================================================================================================================================================================================================================================================================================================================================================================================================================================================================================================================================================================================================================================================================================================================================================================================================================================================================================================================================================================================================================================================================================================================================================================================================================================================================================================================================================================================================================================================================================================================================================================================================================================================================================================================================================================================================================================================================================================================================================================================================================================================================================================================================================================================================================================================================================================================================================================================================================================================================================================================================================================================================================================================================================================================================================================================================================================================================================================================================================================================================================================================================================================================================================================================================================================================================================================================================================================================================================================================================================================================================================================================================================================================================================================================================================================================================================================================================================================================================================================================================================================================================================================================================================================================================================================================================================================================================================================================================================================================================================================================================================================================================================================================================================================================================================================================================================================================================================================================================================================================================================================================================================================================================================================================================================================================================================================================================================================================================================================================================================================================================================================================================================================================================================================================================================================================================================================================================================================================================================================================================================================================================================================================================================================================================================================================================================================================================================================================================================================================================================================================================================================================================================================================================================================================================================================================================================================================================================================================================================================================================================================================================================================================================================================================================================================================================================================================================================================================================================================================================================================================================================================================================================================================================================================================================================================================================================================================================================================================================================================================================================================================================================================================================================================================================================================================================================================================================================================================================================================================================================================================================================================================================================================================================================================================================================================================================================================================================================================================================================================================================================================================================================================================================================================================================================================================================================================================================================================================================================================================================================================================================================================================================================================================================================================================================================================================================================================================================================================================================================================================================================================================================================================================================================================================================================================================================================================================================================================================================================================================================================================================================================================================================================================================================================================================================================================================================================================================================================================================================================================================================================================================================================================================================================================================================================================================================================================================================================================================================================================================================================================================================================================================================================================================================================================================================================================================================================================================================================================================================================================================================================================================================================================================================================================================================================================================================================================================================================================================================================================================================================================================================================================================================================================================================================================================================================================================================================================================================================================================================================================================================================================================================================================================================================================================================================================================================================================================================================================================================================================================================================================================================================================================================================================================================================================================================================================================================================================================================================================================================================================================================================================================================================================================================================================================================================================================================================================================================================================================================================================================================================================================================================================================================================================================================================================================================================================================================================================================================================================================================================================================================================================================================================================================================================================================================================================================================================================================================================================================================================================================================================================================================================================================================================================================================================================================================================================================================================================================================================================================================================================================================================================================================================================================================================================================================================================================================================================================================================================================================================================================================================================================================================================================================================================================================================================================================================================================================================================================================================================================================================================================================================================================================================================================================================================================================================================================================================================================================================================================================================================================================================================================================================================================================================================================================================================================================================================================================================================================================================================================================================================================================================================================================================================================================================================================================================================================================================================================================================================================================================================================================================================================================================================================================================================================================================================================================================================================================================================================================================================================================================================================================================================================================================================================================================================================================================================================================================================================================================================================================================================================================================================================================================================================================================================================================================================================================================================================================================================================================================================================================================================================================================================================================================================================================================================================================================================================================================================================================================================================================================================================================================================================================================================================================================================================================================================================================================================================================================================================================================================================================================================================================================================================================================================================================================================================================================================================================================================================================================================================================================================================================================================================================================================================================================================================================================================================================================================================================================================================================================================================================================================================================================================================================================================================================================================================================================================================================================================================================================================================================================================================================================================================================================================================================================================================================================================================================================================================================================================================================================================================================================================================================================================================================================================================================================================================================================================================================================================================================================================================================================================================================================================================================================================================================================================================================================================================================================================================================================================================================================================================================================================================================================================================================================================================================================================================================================================================================================================================================================================================================================================================================================================================================================================================================================================================================================================================================================================================================================================================================================================================================================================================================================================================================================================================================================================================================================================================================================================================================================================================================================================================================================================================================================================================================================================================================================================================================================================================================================================================================================================================================================================================================================================================================================================================================================================================================================================================================================================================================================================================================================================================================================================================================================================================================================================================================================================================================================================================================================================================================================================================================================================================================================================================================================================================================================================================================================================================================================================================================================================================================================================================================================================================================================================================================================================================================================================================================================================================================================================================================================================================================================================================================================================================================================================================================================================================================================================================================================================================================================================================================================================================================================================================================================================================================================================================================================================================================================================================================================================================================================================================================================================================================================================================================================================================================================================================================================================================================================================================================================================================================================================================================================================================================================================================================================================================================================================================================================================================================================================================================================================================================================================================================================================================================================================================================================================================================================================================================================================================================================================================================================================================================================================================================================================================================================================================================================================================================================================================================================================================================================================================================================================================================================================================================================================================================================================================================================================================================================================================================================================================================================================================================================================================================================================================================================================================================================================================================================================================================================================================================================================================================================================================================================================================================================================================================================================================================================================================================================================================================================================================================================================================================================================================================================================================================================================================================================================================================================================================================================================================================================================================================================================================================================================================================================================================================================================================================================================================================================================================================================================================================================================================================================================================================================================================================================================================================================================================================================================================================================================================================================================================================================================================================================================================================================================================================================================================================================================================================================================================================================================================================================================================================================================================================================================================================================================================================================================================================================================================================================================================================================================================================================================================================================================================================================================================================================================================================================================================================================================================================================================================================================================================================================================================================================================================================================================================================================================================================================================================================================================================================================================================================================================================================================================================================================================================================================================================================================================================================================================================================================================================================================================================================================================================================================================================================================================================================================================================================================================================================================================================================================================================================================================================================================================================================================================================================================================================================================================================================================================================================================================================================================================================================================================================================================================================================================================================================================================================================================================================================================================================================================================================================================================================================================================================================================================================================================================================================================================================================================================================================================================================================================================================================================================================================================================================================================================================================================================================================================================================================================================================================================================================================================================================================================================================================================================================================================================================================================================================================================================================================================================================================================================================================================================================================================================================================================================================================================================================================================================================================================================================================================================================================================================================================================================================================================================================================================================================================================================================================================================================================================================================================================================================================================================================================================================================================================================================================================================================================================================================================================================================================================================================================================================================================================================================================================================================================================================================================================================================================================================================================================================================================================================================================================================================================================================================================================================================================================================================================================================================================================================================================================================================================================================================================================================================================================================================================================================================================================================================================================================================================================================================================================================================================================================================================================================================================================================================================================================================================================================================================================================================================================================================================================================================================================================================================================================================================================================================================================================================================================================================================================================================================================================================================================================================================================================================================================================================================================================================================================================================================================================================================================================================================================================================================================================================================================================================================================================================================================================================================================================================================================================================================================================================================================================================================================================================================================================================================================================================================================================================================================================================================================================================================================================================================================================================================================================================================================================================================================================================================================================================================================================================================================================================================================================================================================================================================================================================================================================================================================================================================================================================================================================================================================================================================================================================================================================================================================================================================================================================================================================================================================================================================================================================================================================================================================================================================================================================================================================================================================================================================================================================================================================================================================================================================================================================================================================================================================================================================================================================================================================================================================================================================================================================================================================================================================================================================================================================================================================================================================================================================================================================================================================================================================================================================================================================================================================================================================================================================================================================================================================================================================================================================================================================================================================================================================================================================================================================================================================================================================================================================================================================================================================================================================================================================================================================================================================================================================================================================================================================================================================================================================================================================================================================================================================================================================================================================================================================================================================================================================================================================================================================================================================================================================================================================================================================================================================================================================================================================================================================================================================================================================================================================================================================================================================================================================================================================================================================================================================================================================================================================================================================================================================================================================================================================================================================================================================================================================================================================================================================================================================================================================================================================================================================================================================================================================================================================================================================================================================================================================================================================================================================================================================================================================================================================================================================================================================================================================================================================================================================================================================================================================================================================================================================================================================================================================================================================================================================================================================================================================================================================================================================================================================================================================================================================================================================================================================================================================================================================================================================================================================================================================================================================================================================================================================================================================================================================================================================================================================================================================================================================================================================================================================================================================================================================================================================================================================================================================================================================================================================================================================================================================================================================================================================================================================================================================================================================================================================================================================================================================================================================================================================================================================================================================================================================================================================================================================================================================================================================================================================================================================================================================================================================================================================================================================================================================================================================================================================================================================================================================================================================================================================================================================================================================================================================================================================================================================================================================================================================================================================================================================================================================================================================================================================================================================================================================================================================================================================================================================================================================================================================================================================================================================================================================================================================================================================================================================================================================================================================================================================================================================================================================================================================================================================================================================================================================================================================================================================================================================================================================================================================================================================================================================================================================================================================================================================================================================================================================================================================================================================================================================================================================================================================================================================================================================================================================================================================================================================================================================================================================================================================================================================================================================================================================================================================================================================================================================================================================================================================================================================================================================================================================================================================================================================================================================================================================================================================================================================================================================================================================================================================================================================================================================================================================================================================================================================================================================================================================================================================================================================================================================================================================================================================================================================================================================================================================================================================================================================================================================================================================================================================================================================================================================================================================================================================================================================================================================================================================================================================================================================================================================================================================================================================================================================================================================================================================================================================================================================================================================================================================================================================================================================================================================================================================================================================================================================================================================================================================================================================================================================================================================================================================================================================================================================================================================================================================================================================================================================================================================================================================================================================================================================================================================================================================================================================================================================================================================================================================================================================================================================================================================================================================================================================================================================================================================================================================================================================================================================================================================================================================================================================================================================================================================================================================================================================================================================================================================================================================================================================================================================================================================================================================================================================================================================================================================================================================================================================================================================================================================================================================================================================================================================================================================================================================================================================================================================================================================================================================================================================================================================================================================================================================================================================================================================================================================================================================================================================================================================================================================================================================================================================================================================================================================================================] - 0s 208us/sample - loss: 1.8070 - accuracy: 0.7872\n"
     ]
    }
   ],
   "source": [
    "# 3-21从头开始重新训练一个模型\n",
    "model = models.Sequential()\n",
    "model.add(layers.Dense(64, activation='relu', input_shape=(10000,)))\n",
    "model.add(layers.Dense(64, activation='relu'))\n",
    "model.add(layers.Dense(46, activation='softmax'))\n",
    "\n",
    "model.compile(optimizer='rmsprop',\n",
    "              loss='categorical_crossentropy',\n",
    "              metrics=['accuracy'])\n",
    "model.fit(partial_x_train,\n",
    "          partial_y_train,\n",
    "          epochs=9,\n",
    "          batch_size=512,\n",
    "          validation_data=(x_val, y_val))\n",
    "results = model.evaluate(x_test, one_hot_test_labels)"
   ]
  },
  {
   "cell_type": "code",
   "execution_count": 30,
   "metadata": {},
   "outputs": [
    {
     "data": {
      "text/plain": [
       "[0.9626190709091146, 0.7871772]"
      ]
     },
     "execution_count": 30,
     "metadata": {},
     "output_type": "execute_result"
    }
   ],
   "source": [
    "results"
   ]
  },
  {
   "cell_type": "markdown",
   "metadata": {},
   "source": [
    "# 在新数据上生成预测结果\n"
   ]
  },
  {
   "cell_type": "code",
   "execution_count": 32,
   "metadata": {},
   "outputs": [],
   "source": [
    "# 3-22在新数据上生成预测结果\n",
    "predictions = model.predict(x_test)"
   ]
  },
  {
   "cell_type": "code",
   "execution_count": 33,
   "metadata": {},
   "outputs": [
    {
     "data": {
      "text/plain": [
       "(46,)"
      ]
     },
     "execution_count": 33,
     "metadata": {},
     "output_type": "execute_result"
    }
   ],
   "source": [
    "# 每个predictions是长度为46的向量：\n",
    "predictions[0].shape"
   ]
  },
  {
   "cell_type": "code",
   "execution_count": 34,
   "metadata": {},
   "outputs": [
    {
     "data": {
      "text/plain": [
       "1.0"
      ]
     },
     "execution_count": 34,
     "metadata": {},
     "output_type": "execute_result"
    }
   ],
   "source": [
    "# 这个向量中的元素之和为1：\n",
    "np.sum(predictions[0])"
   ]
  },
  {
   "cell_type": "code",
   "execution_count": 35,
   "metadata": {},
   "outputs": [
    {
     "data": {
      "text/plain": [
       "3"
      ]
     },
     "execution_count": 35,
     "metadata": {},
     "output_type": "execute_result"
    }
   ],
   "source": [
    "# 最大的元素是预测类，即概率最大的类别：\n",
    "np.argmax(predictions[0])"
   ]
  },
  {
   "cell_type": "markdown",
   "metadata": {},
   "source": [
    "# 处理标签和损失的另一种方法\n",
    "我们在前面提到过，另一种编码标签的方法是将它们转换为整数张量，如下所示："
   ]
  },
  {
   "cell_type": "code",
   "execution_count": 36,
   "metadata": {},
   "outputs": [],
   "source": [
    "y_train = np.array(train_labels)\n",
    "y_test = np.array(test_labels)"
   ]
  },
  {
   "cell_type": "markdown",
   "metadata": {},
   "source": [
    "# \n",
    "唯一会改变的是损失函数的选择。我们以前的损失，categorical_crossentropy，期望标签遵循分类编码。对于整数标签，我们应该使用sparse_categorical_crossentropy:"
   ]
  },
  {
   "cell_type": "code",
   "execution_count": 37,
   "metadata": {},
   "outputs": [],
   "source": [
    "model.compile(optimizer='rmsprop', loss='sparse_categorical_crossentropy', metrics=['acc'])"
   ]
  },
  {
   "cell_type": "markdown",
   "metadata": {},
   "source": [
    "# 中间层维度足够大的重要性\n",
    "我们在前面提到，由于我们的最终输出是46个维度，我们应该避免中间层的隐藏单位远远少于46个。现在，让我们看看当我们引入信息瓶颈时，中间层明显小于46维，例如4维，会发生什么。"
   ]
  },
  {
   "cell_type": "code",
   "execution_count": 38,
   "metadata": {},
   "outputs": [
    {
     "name": "stdout",
     "output_type": "stream",
     "text": [
      "Train on 7982 samples, validate on 1000 samples\n",
      "Epoch 1/20\n",
      "7982/7982 [==============================] - 2s 229us/sample - loss: 2.5560 - accuracy: 0.5495 - val_loss: 1.7735 - val_accuracy: 0.6130\n",
      "Epoch 2/20\n",
      "7982/7982 [==============================] - 1s 187us/sample - loss: 1.5033 - accuracy: 0.6470 - val_loss: 1.4326 - val_accuracy: 0.6530\n",
      "Epoch 3/20\n",
      "7982/7982 [==============================] - 1s 186us/sample - loss: 1.2274 - accuracy: 0.7046 - val_loss: 1.3210 - val_accuracy: 0.6680\n",
      "Epoch 4/20\n",
      "7982/7982 [==============================] - 1s 164us/sample - loss: 1.0768 - accuracy: 0.7268 - val_loss: 1.2903 - val_accuracy: 0.6740\n",
      "Epoch 5/20\n",
      "7982/7982 [==============================] - 1s 183us/sample - loss: 0.9698 - accuracy: 0.7457 - val_loss: 1.2635 - val_accuracy: 0.6990\n",
      "Epoch 6/20\n",
      "7982/7982 [==============================] - 1s 184us/sample - loss: 0.8822 - accuracy: 0.7669 - val_loss: 1.2831 - val_accuracy: 0.6960\n",
      "Epoch 7/20\n",
      "7982/7982 [==============================] - 1s 167us/sample - loss: 0.8119 - accuracy: 0.7883 - val_loss: 1.2677 - val_accuracy: 0.7110\n",
      "Epoch 8/20\n",
      "7982/7982 [==============================] - 1s 157us/sample - loss: 0.7525 - accuracy: 0.8092 - val_loss: 1.2932 - val_accuracy: 0.7240\n",
      "Epoch 9/20\n",
      "7982/7982 [==============================] - 1s 156us/sample - loss: 0.6982 - accuracy: 0.8252 - val_loss: 1.3318 - val_accuracy: 0.7200\n",
      "Epoch 10/20\n",
      "7982/7982 [==============================] - 1s 157us/sample - loss: 0.6518 - accuracy: 0.8326 - val_loss: 1.3318 - val_accuracy: 0.7280\n",
      "Epoch 11/20\n",
      "7982/7982 [==============================] - 1s 159us/sample - loss: 0.6106 - accuracy: 0.8364 - val_loss: 1.4097 - val_accuracy: 0.7250\n",
      "Epoch 12/20\n",
      "7982/7982 [==============================] - 1s 159us/sample - loss: 0.5751 - accuracy: 0.8416 - val_loss: 1.4114 - val_accuracy: 0.7150\n",
      "Epoch 13/20\n",
      "7982/7982 [==============================] - 1s 167us/sample - loss: 0.5431 - accuracy: 0.8517 - val_loss: 1.4612 - val_accuracy: 0.7170\n",
      "Epoch 14/20\n",
      "7982/7982 [==============================] - 1s 174us/sample - loss: 0.5154 - accuracy: 0.8547 - val_loss: 1.5222 - val_accuracy: 0.7050\n",
      "Epoch 15/20\n",
      "7982/7982 [==============================] - 1s 182us/sample - loss: 0.4894 - accuracy: 0.8664 - val_loss: 1.6013 - val_accuracy: 0.7140\n",
      "Epoch 16/20\n",
      "7982/7982 [==============================] - 1s 176us/sample - loss: 0.4669 - accuracy: 0.8751 - val_loss: 1.5921 - val_accuracy: 0.7150\n",
      "Epoch 17/20\n",
      "7982/7982 [==============================] - 1s 175us/sample - loss: 0.4485 - accuracy: 0.8805 - val_loss: 1.6704 - val_accuracy: 0.7050\n",
      "Epoch 18/20\n",
      "7982/7982 [==============================] - 1s 165us/sample - loss: 0.4261 - accuracy: 0.8819 - val_loss: 1.7588 - val_accuracy: 0.7020\n",
      "Epoch 19/20\n",
      "7982/7982 [==============================] - 1s 156us/sample - loss: 0.4110 - accuracy: 0.8881 - val_loss: 1.7903 - val_accuracy: 0.7080\n",
      "Epoch 20/20\n",
      "7982/7982 [==============================] - 1s 159us/sample - loss: 0.3971 - accuracy: 0.8906 - val_loss: 1.8295 - val_accuracy: 0.7040\n"
     ]
    },
    {
     "data": {
      "text/plain": [
       "<tensorflow.python.keras.callbacks.History at 0x1b2bc43a710>"
      ]
     },
     "execution_count": 38,
     "metadata": {},
     "output_type": "execute_result"
    }
   ],
   "source": [
    "# 3-23具有信息瓶颈的模型\n",
    "model = models.Sequential()\n",
    "model.add(layers.Dense(64, activation='relu', input_shape=(10000,)))\n",
    "model.add(layers.Dense(4, activation='relu'))\n",
    "model.add(layers.Dense(46, activation='softmax'))\n",
    "\n",
    "model.compile(optimizer='rmsprop',\n",
    "              loss='categorical_crossentropy',\n",
    "              metrics=['accuracy'])\n",
    "model.fit(partial_x_train,\n",
    "          partial_y_train,\n",
    "          epochs=20,\n",
    "          batch_size=128,\n",
    "          validation_data=(x_val, y_val))"
   ]
  },
  {
   "cell_type": "markdown",
   "metadata": {},
   "source": [
    "# 结论\n",
    "\n",
    "如果您试图在N个类之间对数据点进行分类，网络的最后一层应该是大小为N的Dense层\n",
    "\n",
    "\n",
    "one-hot编码使用分类交叉熵（categorical_crossentropy）作为损失函数\n",
    "\n",
    "整数编码使用sparse_categoriacl_crossentropy作为损失函数"
   ]
  },
  {
   "cell_type": "code",
   "execution_count": null,
   "metadata": {},
   "outputs": [],
   "source": []
  }
 ],
 "metadata": {
  "kernelspec": {
   "display_name": "Python 3",
   "language": "python",
   "name": "python3"
  },
  "language_info": {
   "codemirror_mode": {
    "name": "ipython",
    "version": 3
   },
   "file_extension": ".py",
   "mimetype": "text/x-python",
   "name": "python",
   "nbconvert_exporter": "python",
   "pygments_lexer": "ipython3",
   "version": "3.7.3"
  }
 },
 "nbformat": 4,
 "nbformat_minor": 2
}
