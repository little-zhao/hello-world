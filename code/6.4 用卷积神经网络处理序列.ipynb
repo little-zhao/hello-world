{
 "cells": [
  {
   "cell_type": "code",
   "execution_count": 1,
   "metadata": {},
   "outputs": [
    {
     "name": "stdout",
     "output_type": "stream",
     "text": [
      "2.0.0\n"
     ]
    }
   ],
   "source": [
    "import tensorflow as tf\n",
    "print(tf.__version__)"
   ]
  },
  {
   "cell_type": "code",
   "execution_count": 2,
   "metadata": {},
   "outputs": [],
   "source": [
    "gpu=tf.config.experimental.list_physical_devices('GPU')\n",
    "for i in gpu:\n",
    "    tf.config.experimental.set_memory_growth(i, True)"
   ]
  },
  {
   "cell_type": "markdown",
   "metadata": {},
   "source": [
    "# 实现一维卷积神经网络\n",
    "Keras中一维卷积神经网络是Conv1D层，它接受的形状为（samples，time，features）的三维张量，并返回类似形状的三维张量。卷积窗口是时间轴上的一维窗口（时间轴是输入张量的第二个轴）。"
   ]
  },
  {
   "cell_type": "code",
   "execution_count": 3,
   "metadata": {},
   "outputs": [
    {
     "name": "stdout",
     "output_type": "stream",
     "text": [
      "Loading data...\n",
      "25000 train sequences\n",
      "25000 test sequences\n",
      "Pad sequences (samples x time)\n",
      "x_train shape: (25000, 500)\n",
      "x_test shape: (25000, 500)\n"
     ]
    }
   ],
   "source": [
    "# 6-45准备IMDB数据\n",
    "from tensorflow.keras.datasets import imdb\n",
    "from tensorflow.keras.preprocessing import sequence\n",
    "\n",
    "max_features = 10000  # number of words to consider as features\n",
    "max_len = 500  # cut texts after this number of words (among top max_features most common words)\n",
    "\n",
    "print('Loading data...')\n",
    "(x_train, y_train), (x_test, y_test) = imdb.load_data(num_words=max_features)\n",
    "print(len(x_train), 'train sequences')\n",
    "print(len(x_test), 'test sequences')\n",
    "\n",
    "print('Pad sequences (samples x time)')\n",
    "x_train = sequence.pad_sequences(x_train, maxlen=max_len)\n",
    "x_test = sequence.pad_sequences(x_test, maxlen=max_len)\n",
    "print('x_train shape:', x_train.shape)\n",
    "print('x_test shape:', x_test.shape)"
   ]
  },
  {
   "cell_type": "code",
   "execution_count": 4,
   "metadata": {},
   "outputs": [
    {
     "name": "stdout",
     "output_type": "stream",
     "text": [
      "Model: \"sequential\"\n",
      "_________________________________________________________________\n",
      "Layer (type)                 Output Shape              Param #   \n",
      "=================================================================\n",
      "embedding (Embedding)        (None, 500, 128)          1280000   \n",
      "_________________________________________________________________\n",
      "conv1d (Conv1D)              (None, 494, 32)           28704     \n",
      "_________________________________________________________________\n",
      "max_pooling1d (MaxPooling1D) (None, 98, 32)            0         \n",
      "_________________________________________________________________\n",
      "conv1d_1 (Conv1D)            (None, 92, 32)            7200      \n",
      "_________________________________________________________________\n",
      "global_max_pooling1d (Global (None, 32)                0         \n",
      "_________________________________________________________________\n",
      "dense (Dense)                (None, 1)                 33        \n",
      "=================================================================\n",
      "Total params: 1,315,937\n",
      "Trainable params: 1,315,937\n",
      "Non-trainable params: 0\n",
      "_________________________________________________________________\n",
      "Train on 20000 samples, validate on 5000 samples\n",
      "Epoch 1/10\n",
      "20000/20000 [==============================] - 14s 712us/sample - loss: 0.7013 - acc: 0.5447 - val_loss: 0.6848 - val_acc: 0.5182\n",
      "Epoch 2/10\n",
      "20000/20000 [==============================] - 7s 357us/sample - loss: 0.6569 - acc: 0.6919 - val_loss: 0.6540 - val_acc: 0.6450\n",
      "Epoch 3/10\n",
      "20000/20000 [==============================] - 7s 336us/sample - loss: 0.5983 - acc: 0.7709 - val_loss: 0.5730 - val_acc: 0.7500\n",
      "Epoch 4/10\n",
      "20000/20000 [==============================] - 7s 346us/sample - loss: 0.4835 - acc: 0.8222 - val_loss: 0.4651 - val_acc: 0.8090\n",
      "Epoch 5/10\n",
      "20000/20000 [==============================] - 7s 357us/sample - loss: 0.3923 - acc: 0.8513 - val_loss: 0.4136 - val_acc: 0.8400\n",
      "Epoch 6/10\n",
      "20000/20000 [==============================] - 7s 344us/sample - loss: 0.3290 - acc: 0.8791 - val_loss: 0.4006 - val_acc: 0.8538\n",
      "Epoch 7/10\n",
      "20000/20000 [==============================] - 7s 333us/sample - loss: 0.2891 - acc: 0.8964 - val_loss: 0.4046 - val_acc: 0.8610\n",
      "Epoch 8/10\n",
      "20000/20000 [==============================] - 7s 359us/sample - loss: 0.2611 - acc: 0.9086 - val_loss: 0.4267 - val_acc: 0.8602\n",
      "Epoch 9/10\n",
      "20000/20000 [==============================] - 7s 354us/sample - loss: 0.2384 - acc: 0.9184 - val_loss: 0.4567 - val_acc: 0.8670\n",
      "Epoch 10/10\n",
      "20000/20000 [==============================] - 7s 351us/sample - loss: 0.2157 - acc: 0.9275 - val_loss: 0.4378 - val_acc: 0.8720\n"
     ]
    }
   ],
   "source": [
    "# 6-46 在IMDB数据上训练并评估模型\n",
    "from tensorflow.keras.models import Sequential\n",
    "from tensorflow.keras import layers\n",
    "from tensorflow.keras.optimizers import RMSprop\n",
    "\n",
    "model = Sequential()\n",
    "model.add(layers.Embedding(max_features, 128, input_length=max_len))\n",
    "model.add(layers.Conv1D(32, 7, activation='relu'))\n",
    "model.add(layers.MaxPooling1D(5))\n",
    "model.add(layers.Conv1D(32, 7, activation='relu'))\n",
    "model.add(layers.GlobalMaxPooling1D())\n",
    "model.add(layers.Dense(1))\n",
    "\n",
    "model.summary()\n",
    "\n",
    "model.compile(optimizer=RMSprop(lr=1e-4),\n",
    "              loss='binary_crossentropy',\n",
    "              metrics=['acc'])\n",
    "history = model.fit(x_train, y_train,\n",
    "                    epochs=10,\n",
    "                    batch_size=128,\n",
    "                    validation_split=0.2)"
   ]
  },
  {
   "cell_type": "code",
   "execution_count": 6,
   "metadata": {},
   "outputs": [
    {
     "data": {
      "image/png": "[encoded data removed]",
      "text/plain": [
       "<Figure size 432x288 with 1 Axes>"
      ]
     },
     "metadata": {
      "needs_background": "light"
     },
     "output_type": "display_data"
    },
    {
     "data": {
      "image/png": "[encoded data removed]",
      "text/plain": [
       "<Figure size 432x288 with 1 Axes>"
      ]
     },
     "metadata": {
      "needs_background": "light"
     },
     "output_type": "display_data"
    }
   ],
   "source": [
    "# 绘制结果\n",
    "import matplotlib.pyplot as plt\n",
    "\n",
    "acc = history.history['acc']\n",
    "val_acc = history.history['val_acc']\n",
    "loss = history.history['loss']\n",
    "val_loss = history.history['val_loss']\n",
    "\n",
    "epochs = range(len(acc))\n",
    "\n",
    "plt.plot(epochs, acc, 'bo', label='Training acc')\n",
    "plt.plot(epochs, val_acc, 'b', label='Validation acc')\n",
    "plt.title('Training and validation accuracy')\n",
    "plt.legend()\n",
    "\n",
    "plt.figure()\n",
    "\n",
    "plt.plot(epochs, loss, 'bo', label='Training loss')\n",
    "plt.plot(epochs, val_loss, 'b', label='Validation loss')\n",
    "plt.title('Training and validation loss')\n",
    "plt.legend()\n",
    "\n",
    "plt.show()"
   ]
  },
  {
   "cell_type": "markdown",
   "metadata": {},
   "source": [
    "# 结合CNN和RNN处理长序列\n",
    "一维卷积神经网络分别处理每个输入序列段，索引它对时间步的顺序不敏感，为了识别更长期的模式，你可以将许多卷积层和池化层堆叠在一起，这样上面的层能够观察到原始输入中更长的序列段。"
   ]
  },
  {
   "cell_type": "code",
   "execution_count": 7,
   "metadata": {},
   "outputs": [],
   "source": [
    "# 加载天气数据\n",
    "import os\n",
    "import numpy as np\n",
    "\n",
    "fname = r'jena_climate_2009_2016.csv'\n",
    "\n",
    "f = open(fname)\n",
    "data = f.read()\n",
    "f.close()\n",
    "\n",
    "lines = data.split('\\n')\n",
    "header = lines[0].split(',')\n",
    "lines = lines[1:]\n",
    "\n",
    "float_data = np.zeros((len(lines), len(header) - 1))\n",
    "for i, line in enumerate(lines):\n",
    "    values = [float(x) for x in line.split(',')[1:]]\n",
    "    float_data[i, :] = values\n",
    "    \n",
    "mean = float_data[:200000].mean(axis=0)\n",
    "float_data -= mean\n",
    "std = float_data[:200000].std(axis=0)\n",
    "float_data /= std\n",
    "\n",
    "def generator(data, lookback, delay, min_index, max_index,\n",
    "              shuffle=False, batch_size=128, step=6):\n",
    "    if max_index is None:\n",
    "        max_index = len(data) - delay - 1\n",
    "    i = min_index + lookback\n",
    "    while 1:\n",
    "        if shuffle:\n",
    "            rows = np.random.randint(\n",
    "                min_index + lookback, max_index, size=batch_size)\n",
    "        else:\n",
    "            if i + batch_size >= max_index:\n",
    "                i = min_index + lookback\n",
    "            rows = np.arange(i, min(i + batch_size, max_index))\n",
    "            i += len(rows)\n",
    "\n",
    "        samples = np.zeros((len(rows),\n",
    "                           lookback // step,\n",
    "                           data.shape[-1]))\n",
    "        targets = np.zeros((len(rows),))\n",
    "        for j, row in enumerate(rows):\n",
    "            indices = range(rows[j] - lookback, rows[j], step)\n",
    "            samples[j] = data[indices]\n",
    "            targets[j] = data[rows[j] + delay][1]\n",
    "        yield samples, targets\n",
    "        \n",
    "lookback = 1440\n",
    "step = 6\n",
    "delay = 144\n",
    "batch_size = 128\n",
    "\n",
    "train_gen = generator(float_data,\n",
    "                      lookback=lookback,\n",
    "                      delay=delay,\n",
    "                      min_index=0,\n",
    "                      max_index=200000,\n",
    "                      shuffle=True,\n",
    "                      step=step, \n",
    "                      batch_size=batch_size)\n",
    "val_gen = generator(float_data,\n",
    "                    lookback=lookback,\n",
    "                    delay=delay,\n",
    "                    min_index=200001,\n",
    "                    max_index=300000,\n",
    "                    step=step,\n",
    "                    batch_size=batch_size)\n",
    "test_gen = generator(float_data,\n",
    "                     lookback=lookback,\n",
    "                     delay=delay,\n",
    "                     min_index=300001,\n",
    "                     max_index=None,\n",
    "                     step=step,\n",
    "                     batch_size=batch_size)\n",
    "\n",
    "\n",
    "val_steps = (300000 - 200001 - lookback) // batch_size\n",
    "\n",
    "test_steps = (len(float_data) - 300001 - lookback) // batch_size"
   ]
  },
  {
   "cell_type": "code",
   "execution_count": 8,
   "metadata": {},
   "outputs": [
    {
     "name": "stdout",
     "output_type": "stream",
     "text": [
      "Epoch 1/20\n",
      "500/500 [==============================] - 22s 44ms/step - loss: 0.4140 - val_loss: 0.4293\n",
      "Epoch 2/20\n",
      "500/500 [==============================] - 20s 40ms/step - loss: 0.3588 - val_loss: 0.4614\n",
      "Epoch 3/20\n",
      "500/500 [==============================] - 20s 39ms/step - loss: 0.3350 - val_loss: 0.4513\n",
      "Epoch 4/20\n",
      "500/500 [==============================] - 20s 40ms/step - loss: 0.3180 - val_loss: 0.4409\n",
      "Epoch 5/20\n",
      "500/500 [==============================] - 20s 40ms/step - loss: 0.3067 - val_loss: 0.4575\n",
      "Epoch 6/20\n",
      "500/500 [==============================] - 20s 39ms/step - loss: 0.2967 - val_loss: 0.4976\n",
      "Epoch 7/20\n",
      "500/500 [==============================] - 20s 39ms/step - loss: 0.2877 - val_loss: 0.4551\n",
      "Epoch 8/20\n",
      "500/500 [==============================] - 20s 39ms/step - loss: 0.2801 - val_loss: 0.4686\n",
      "Epoch 9/20\n",
      "500/500 [==============================] - 20s 40ms/step - loss: 0.2757 - val_loss: 0.4616\n",
      "Epoch 10/20\n",
      "500/500 [==============================] - 20s 40ms/step - loss: 0.2712 - val_loss: 0.4656\n",
      "Epoch 11/20\n",
      "500/500 [==============================] - 21s 41ms/step - loss: 0.2653 - val_loss: 0.4846\n",
      "Epoch 12/20\n",
      "500/500 [==============================] - 20s 41ms/step - loss: 0.2627 - val_loss: 0.4742\n",
      "Epoch 13/20\n",
      "500/500 [==============================] - 20s 40ms/step - loss: 0.2595 - val_loss: 0.4978\n",
      "Epoch 14/20\n",
      "500/500 [==============================] - 21s 41ms/step - loss: 0.2556 - val_loss: 0.4925\n",
      "Epoch 15/20\n",
      "500/500 [==============================] - 20s 40ms/step - loss: 0.2535 - val_loss: 0.4783\n",
      "Epoch 16/20\n",
      "500/500 [==============================] - 20s 40ms/step - loss: 0.2506 - val_loss: 0.4925\n",
      "Epoch 17/20\n",
      "500/500 [==============================] - 20s 41ms/step - loss: 0.2475 - val_loss: 0.4945\n",
      "Epoch 18/20\n",
      "500/500 [==============================] - 20s 40ms/step - loss: 0.2450 - val_loss: 0.4753\n",
      "Epoch 19/20\n",
      "500/500 [==============================] - 20s 40ms/step - loss: 0.2424 - val_loss: 0.4974\n",
      "Epoch 20/20\n",
      "500/500 [==============================] - 20s 40ms/step - loss: 0.2399 - val_loss: 0.4869\n"
     ]
    }
   ],
   "source": [
    "# 6-47 在天气数据上训练并评估模型\n",
    "from tensorflow.keras.models import Sequential\n",
    "from tensorflow.keras import layers\n",
    "from tensorflow.keras.optimizers import RMSprop\n",
    "\n",
    "model = Sequential()\n",
    "model.add(layers.Conv1D(32, 5, activation='relu',\n",
    "                        input_shape=(None, float_data.shape[-1])))\n",
    "model.add(layers.MaxPooling1D(3))\n",
    "model.add(layers.Conv1D(32, 5, activation='relu'))\n",
    "model.add(layers.MaxPooling1D(3))\n",
    "model.add(layers.Conv1D(32, 5, activation='relu'))\n",
    "model.add(layers.GlobalMaxPooling1D())\n",
    "model.add(layers.Dense(1))\n",
    "\n",
    "model.compile(optimizer=RMSprop(), loss='mae')\n",
    "history = model.fit_generator(train_gen,\n",
    "                              steps_per_epoch=500,\n",
    "                              epochs=20,\n",
    "                              validation_data=val_gen,\n",
    "                              validation_steps=val_steps)"
   ]
  },
  {
   "cell_type": "code",
   "execution_count": 9,
   "metadata": {},
   "outputs": [
    {
     "data": {
      "image/png": "[encoded data removed]",
      "text/plain": [
       "<Figure size 432x288 with 1 Axes>"
      ]
     },
     "metadata": {
      "needs_background": "light"
     },
     "output_type": "display_data"
    }
   ],
   "source": [
    "# 绘图\n",
    "import matplotlib.pyplot as plt\n",
    "\n",
    "loss = history.history['loss']\n",
    "val_loss = history.history['val_loss']\n",
    "\n",
    "epochs = range(len(loss))\n",
    "\n",
    "plt.figure()\n",
    "\n",
    "plt.plot(epochs, loss, 'bo', label='Training loss')\n",
    "plt.plot(epochs, val_loss, 'b', label='Validation loss')\n",
    "plt.title('Training and validation loss')\n",
    "plt.legend()\n",
    "\n",
    "plt.show()"
   ]
  },
  {
   "cell_type": "markdown",
   "metadata": {},
   "source": [
    "# \n",
    "要相结合卷积神经网络的速度和RNN的顺序敏感性，一种方法是在RNN前面使用一维卷积神经网络作为预处理步骤。对于那些非常长，以至于RNN无法处理的序列（比如上千个时间步的序列），这种方式很有用。卷积神经网络可以将长的输入序列转换为高级特征组成的更短的序列。然后提取的特征组成的这些序列成为RNN的输入。"
   ]
  },
  {
   "cell_type": "code",
   "execution_count": 10,
   "metadata": {},
   "outputs": [],
   "source": [
    "# 6-48准备天气数据\n",
    "step = 3\n",
    "lookback = 720  # Unchanged\n",
    "delay = 144 # Unchanged\n",
    "\n",
    "train_gen = generator(float_data,\n",
    "                      lookback=lookback,\n",
    "                      delay=delay,\n",
    "                      min_index=0,\n",
    "                      max_index=200000,\n",
    "                      shuffle=True,\n",
    "                      step=step)\n",
    "val_gen = generator(float_data,\n",
    "                    lookback=lookback,\n",
    "                    delay=delay,\n",
    "                    min_index=200001,\n",
    "                    max_index=300000,\n",
    "                    step=step)\n",
    "test_gen = generator(float_data,\n",
    "                     lookback=lookback,\n",
    "                     delay=delay,\n",
    "                     min_index=300001,\n",
    "                     max_index=None,\n",
    "                     step=step)\n",
    "val_steps = (300000 - 200001 - lookback) // 128\n",
    "test_steps = (len(float_data) - 300001 - lookback) // 128"
   ]
  },
  {
   "cell_type": "code",
   "execution_count": 11,
   "metadata": {},
   "outputs": [
    {
     "name": "stdout",
     "output_type": "stream",
     "text": [
      "Model: \"sequential_2\"\n",
      "_________________________________________________________________\n",
      "Layer (type)                 Output Shape              Param #   \n",
      "=================================================================\n",
      "conv1d_5 (Conv1D)            (None, None, 32)          2272      \n",
      "_________________________________________________________________\n",
      "max_pooling1d_3 (MaxPooling1 (None, None, 32)          0         \n",
      "_________________________________________________________________\n",
      "conv1d_6 (Conv1D)            (None, None, 32)          5152      \n",
      "_________________________________________________________________\n",
      "gru (GRU)                    (None, 32)                6336      \n",
      "_________________________________________________________________\n",
      "dense_2 (Dense)              (None, 1)                 33        \n",
      "=================================================================\n",
      "Total params: 13,793\n",
      "Trainable params: 13,793\n",
      "Non-trainable params: 0\n",
      "_________________________________________________________________\n",
      "Epoch 1/20\n",
      "500/500 [==============================] - 326s 652ms/step - loss: 485129573635130240.0000 - val_loss: 0.7648\n",
      "Epoch 2/20\n",
      "500/500 [==============================] - 327s 654ms/step - loss: 47308419.4263 - val_loss: 0.7691\n",
      "Epoch 3/20\n",
      "500/500 [==============================] - 326s 652ms/step - loss: 19977656.7176 - val_loss: 0.7644\n",
      "Epoch 4/20\n",
      "500/500 [==============================] - 324s 648ms/step - loss: 91380894295.5031 - val_loss: 0.7666\n",
      "Epoch 5/20\n",
      "500/500 [==============================] - 323s 646ms/step - loss: 172032935.6401 - val_loss: 0.7630\n",
      "Epoch 6/20\n",
      "500/500 [==============================] - 327s 653ms/step - loss: 788048322290.0790 - val_loss: 0.7767\n",
      "Epoch 7/20\n",
      "500/500 [==============================] - 329s 658ms/step - loss: 232962226094.7361 - val_loss: 0.7592\n",
      "Epoch 8/20\n",
      "500/500 [==============================] - 330s 660ms/step - loss: 2589088665448.5322 - val_loss: 0.7654\n",
      "Epoch 9/20\n",
      "500/500 [==============================] - 320s 641ms/step - loss: 1608793998310.5488 - val_loss: 0.7593\n",
      "Epoch 10/20\n",
      "500/500 [==============================] - 328s 656ms/step - loss: 3050807875352.2178 - val_loss: 0.7996\n",
      "Epoch 11/20\n",
      "500/500 [==============================] - 317s 633ms/step - loss: 11884599448971.7090 - val_loss: 0.7570\n",
      "Epoch 12/20\n",
      "500/500 [==============================] - 315s 630ms/step - loss: 86618285983275.3281 - val_loss: 0.8201\n",
      "Epoch 13/20\n",
      "500/500 [==============================] - 314s 627ms/step - loss: 1125216886935.2185 - val_loss: 0.7444\n",
      "Epoch 14/20\n",
      "500/500 [==============================] - 325s 651ms/step - loss: 4261651751564.8496 - val_loss: 0.8475\n",
      "Epoch 15/20\n",
      "500/500 [==============================] - 322s 644ms/step - loss: 33619891199304.4336 - val_loss: 0.6623\n",
      "Epoch 16/20\n",
      "500/500 [==============================] - 315s 630ms/step - loss: 6013875145467.2529 - val_loss: 0.6895\n",
      "Epoch 17/20\n",
      "500/500 [==============================] - 312s 625ms/step - loss: 24941455434221.6016 - val_loss: 0.6224\n",
      "Epoch 18/20\n",
      "500/500 [==============================] - 315s 631ms/step - loss: 3903222937791.5479 - val_loss: 0.6589\n",
      "Epoch 19/20\n",
      "500/500 [==============================] - 321s 642ms/step - loss: 88163461492613.7969 - val_loss: 0.7606\n",
      "Epoch 20/20\n",
      "500/500 [==============================] - 328s 655ms/step - loss: 11673662485683.2637 - val_loss: 0.7700\n"
     ]
    }
   ],
   "source": [
    "# ６-49结合一维卷积和GRU层的卷积\n",
    "model = Sequential()\n",
    "model.add(layers.Conv1D(32, 5, activation='relu',\n",
    "                        input_shape=(None, float_data.shape[-1])))\n",
    "model.add(layers.MaxPooling1D(3))\n",
    "model.add(layers.Conv1D(32, 5, activation='relu'))\n",
    "model.add(layers.GRU(32, dropout=0.1, recurrent_dropout=0.5))\n",
    "model.add(layers.Dense(1))\n",
    "\n",
    "model.summary()\n",
    "\n",
    "model.compile(optimizer=RMSprop(), loss='mae')\n",
    "history = model.fit_generator(train_gen,\n",
    "                              steps_per_epoch=500,\n",
    "                              epochs=20,\n",
    "                              validation_data=val_gen,\n",
    "                              validation_steps=val_steps)"
   ]
  },
  {
   "cell_type": "code",
   "execution_count": 15,
   "metadata": {},
   "outputs": [
    {
     "data": {
      "image/png": "[encoded data removed]",
      "text/plain": [
       "<Figure size 432x288 with 1 Axes>"
      ]
     },
     "metadata": {
      "needs_background": "light"
     },
     "output_type": "display_data"
    }
   ],
   "source": [
    "# 绘图\n",
    "loss = history.history['loss']\n",
    "val_loss = history.history['val_loss']\n",
    "\n",
    "epochs = range(len(loss))\n",
    "\n",
    "plt.figure()\n",
    "\n",
    "plt.plot(epochs, loss, 'bo', label='Training loss')\n",
    "plt.plot(epochs, val_loss, 'b', label='Validation loss')\n",
    "plt.title('Training and validation loss')\n",
    "plt.legend()\n",
    "\n",
    "plt.show()"
   ]
  },
  {
   "cell_type": "code",
   "execution_count": null,
   "metadata": {},
   "outputs": [],
   "source": []
  }
 ],
 "metadata": {
  "kernelspec": {
   "display_name": "Python 3",
   "language": "python",
   "name": "python3"
  },
  "language_info": {
   "codemirror_mode": {
    "name": "ipython",
    "version": 3
   },
   "file_extension": ".py",
   "mimetype": "text/x-python",
   "name": "python",
   "nbconvert_exporter": "python",
   "pygments_lexer": "ipython3",
   "version": "3.7.3"
  }
 },
 "nbformat": 4,
 "nbformat_minor": 2
}
