{
 "cells": [
  {
   "cell_type": "code",
   "execution_count": 1,
   "metadata": {},
   "outputs": [
    {
     "name": "stdout",
     "output_type": "stream",
     "text": [
      "2.0.0\n"
     ]
    }
   ],
   "source": [
    "import tensorflow as tf\n",
    "print(tf.__version__)"
   ]
  },
  {
   "cell_type": "markdown",
   "metadata": {},
   "source": [
    "# 过拟合和欠拟合\n",
    "\n",
    "\n",
    "机器学习的根本问题是优化与泛化之间的对立。“优化”是指对一个模型进行调整以获得对训练数据的最佳性能的过程(“机器学习”中的“学习”)，而“泛化”是指经过训练的模型对它以前从未见过的数据上性能的好坏。机器学习的目标当然是获得良好的泛化，但是你不能控制泛化，你只能根据它的训练数据来调整模型。\n",
    "\n",
    "在训练开始时，优化和泛化是相关的：训练数据的损失越小，测试数据的损失也越小。当这种情况发生的时候，你的模型被认为欠拟合的，网络还没有对训练数据所有模式进行建模。但是，在对训练数据进行了一定次数的迭代之后，泛化不再提高，验证先是不变，然后开始退化：模型开始变得过拟合。\n",
    "\n",
    "为了防止出现过拟合，最优解决方法是获取更多的训练数据。对更多数据进行训练的模型自然会得到更好的泛化能力。下一个最好的解决方案是调整模型允许存储的信息量，或对允许存储的信息添加约束。如果一个网络只能记住少量的模式，那么优化过程就会迫使它把注意力集中在最突出的模式上，这样更可能得到良好的泛化。\n",
    "\n",
    "这种降低过拟合的方法叫做正则化"
   ]
  },
  {
   "cell_type": "code",
   "execution_count": 7,
   "metadata": {},
   "outputs": [],
   "source": [
    "# 加载数据\n",
    "from tensorflow.keras.datasets import imdb\n",
    "import numpy as np\n",
    "\n",
    "(train_data, train_labels), (test_data, test_labels) = imdb.load_data(num_words=10000)\n",
    "\n",
    "def vectorize_sequences(sequences, dimension=10000):\n",
    "    \n",
    "    results = np.zeros((len(sequences), dimension))\n",
    "    for i, sequence in enumerate(sequences):\n",
    "        results[i, sequence] = 1.  \n",
    "    return results\n",
    "\n",
    "# Our vectorized training data\n",
    "x_train = vectorize_sequences(train_data)\n",
    "# Our vectorized test data\n",
    "x_test = vectorize_sequences(test_data)\n",
    "# Our vectorized labels\n",
    "y_train = np.asarray(train_labels).astype('float32')\n",
    "y_test = np.asarray(test_labels).astype('float32')"
   ]
  },
  {
   "cell_type": "markdown",
   "metadata": {},
   "source": [
    "# 减小网络大小\n",
    "防止过拟合的最简单方法是减小模型的大小，即模型中可学习参数的数目(由层数和每层单元数决定)。在深度学习中，模型中可学习参数的个数常被称为模型的“容量”。直观地说，一个参数较多的模型具有更多的“记忆能力”，因此能够很容易地学习到训练样本与目标之间的一种完美的字典式映射，这种映射泛化能力很差。例如，一个包含50万个二进制参数的模型可以很容易地学习MNIST训练集中每一个数字的类：我们只需要对50,000个数字都对应10个二进制参数。这样的模型对于分类新的数字样本是无用的。永远记住这一点：深度学习模型往往适合训练数据，但真正的挑战是泛化，而不是拟合。\n"
   ]
  },
  {
   "cell_type": "code",
   "execution_count": 3,
   "metadata": {},
   "outputs": [],
   "source": [
    "# 4-3原始模型\n",
    "from tensorflow.keras import models\n",
    "from tensorflow.keras import layers\n",
    "\n",
    "original_model = models.Sequential()\n",
    "original_model.add(layers.Dense(16, activation='relu', input_shape=(10000,)))\n",
    "original_model.add(layers.Dense(16, activation='relu'))\n",
    "original_model.add(layers.Dense(1, activation='sigmoid'))\n",
    "\n",
    "original_model.compile(optimizer='rmsprop',\n",
    "                       loss='binary_crossentropy',\n",
    "                       metrics=['acc'])"
   ]
  },
  {
   "cell_type": "code",
   "execution_count": 4,
   "metadata": {},
   "outputs": [],
   "source": [
    "# 4-4容量更小的模型\n",
    "smaller_model = models.Sequential()\n",
    "smaller_model.add(layers.Dense(4, activation='relu', input_shape=(10000,)))\n",
    "smaller_model.add(layers.Dense(4, activation='relu'))\n",
    "smaller_model.add(layers.Dense(1, activation='sigmoid'))\n",
    "\n",
    "smaller_model.compile(optimizer='rmsprop',\n",
    "                      loss='binary_crossentropy',\n",
    "                      metrics=['acc'])"
   ]
  },
  {
   "cell_type": "markdown",
   "metadata": {},
   "source": [
    "# \n",
    "这里比较了原始网络和小型网络的验证损失。点是较小网络的验证损失值，交叉是初始网络的(验证损失越低，模型越好)。"
   ]
  },
  {
   "cell_type": "code",
   "execution_count": 5,
   "metadata": {},
   "outputs": [
    {
     "name": "stdout",
     "output_type": "stream",
     "text": [
      "Train on 25000 samples, validate on 25000 samples\n",
      "Epoch 1/20\n",
      "25000/25000 [==============================] - 11s 442us/sample - loss: 0.4546 - acc: 0.8168 - val_loss: 0.3514 - val_acc: 0.8672\n",
      "Epoch 2/20\n",
      "25000/25000 [==============================] - 6s 254us/sample - loss: 0.2568 - acc: 0.9092 - val_loss: 0.3053 - val_acc: 0.8774\n",
      "Epoch 3/20\n",
      "25000/25000 [==============================] - 7s 263us/sample - loss: 0.1972 - acc: 0.9295 - val_loss: 0.2930 - val_acc: 0.8829\n",
      "Epoch 4/20\n",
      "25000/25000 [==============================] - 4s 174us/sample - loss: 0.1674 - acc: 0.9393 - val_loss: 0.3026 - val_acc: 0.8808\n",
      "Epoch 5/20\n",
      "25000/25000 [==============================] - 4s 149us/sample - loss: 0.1405 - acc: 0.9510 - val_loss: 0.3249 - val_acc: 0.8765\n",
      "Epoch 6/20\n",
      "25000/25000 [==============================] - 4s 155us/sample - loss: 0.1267 - acc: 0.9561 - val_loss: 0.3343 - val_acc: 0.8763\n",
      "Epoch 7/20\n",
      "25000/25000 [==============================] - 4s 148us/sample - loss: 0.1078 - acc: 0.9648 - val_loss: 0.3809 - val_acc: 0.8657\n",
      "Epoch 8/20\n",
      "25000/25000 [==============================] - 3s 129us/sample - loss: 0.0946 - acc: 0.9695 - val_loss: 0.3824 - val_acc: 0.8715\n",
      "Epoch 9/20\n",
      "25000/25000 [==============================] - 3s 130us/sample - loss: 0.0828 - acc: 0.9732 - val_loss: 0.4572 - val_acc: 0.8555\n",
      "Epoch 10/20\n",
      "25000/25000 [==============================] - 3s 124us/sample - loss: 0.0738 - acc: 0.9767 - val_loss: 0.4523 - val_acc: 0.8596\n",
      "Epoch 11/20\n",
      "25000/25000 [==============================] - 3s 126us/sample - loss: 0.0617 - acc: 0.9817 - val_loss: 0.4739 - val_acc: 0.8631\n",
      "Epoch 12/20\n",
      "25000/25000 [==============================] - 3s 129us/sample - loss: 0.0552 - acc: 0.9840 - val_loss: 0.5036 - val_acc: 0.8586\n",
      "Epoch 13/20\n",
      "25000/25000 [==============================] - 3s 125us/sample - loss: 0.0464 - acc: 0.9865 - val_loss: 0.5319 - val_acc: 0.8577\n",
      "Epoch 14/20\n",
      "25000/25000 [==============================] - 3s 122us/sample - loss: 0.0400 - acc: 0.9888 - val_loss: 0.6589 - val_acc: 0.8456\n",
      "Epoch 15/20\n",
      "25000/25000 [==============================] - 3s 123us/sample - loss: 0.0341 - acc: 0.9905 - val_loss: 0.6022 - val_acc: 0.8544\n",
      "Epoch 16/20\n",
      "25000/25000 [==============================] - 3s 121us/sample - loss: 0.0266 - acc: 0.9934 - val_loss: 0.7118 - val_acc: 0.8460\n",
      "Epoch 17/20\n",
      "25000/25000 [==============================] - 3s 119us/sample - loss: 0.0243 - acc: 0.9940 - val_loss: 0.6836 - val_acc: 0.8528\n",
      "Epoch 18/20\n",
      "25000/25000 [==============================] - 3s 120us/sample - loss: 0.0196 - acc: 0.9952 - val_loss: 0.7204 - val_acc: 0.8521\n",
      "Epoch 19/20\n",
      "25000/25000 [==============================] - 3s 123us/sample - loss: 0.0166 - acc: 0.9959 - val_loss: 0.7632 - val_acc: 0.8514\n",
      "Epoch 20/20\n",
      "25000/25000 [==============================] - 3s 120us/sample - loss: 0.0129 - acc: 0.9973 - val_loss: 0.7995 - val_acc: 0.8499\n"
     ]
    }
   ],
   "source": [
    "original_hist = original_model.fit(x_train, y_train,\n",
    "                                   epochs=20,\n",
    "                                   batch_size=512,\n",
    "                                   validation_data=(x_test, y_test))"
   ]
  },
  {
   "cell_type": "code",
   "execution_count": 6,
   "metadata": {},
   "outputs": [
    {
     "name": "stdout",
     "output_type": "stream",
     "text": [
      "Train on 25000 samples, validate on 25000 samples\n",
      "Epoch 1/20\n",
      "25000/25000 [==============================] - 5s 215us/sample - loss: 0.5739 - acc: 0.7990 - val_loss: 0.4868 - val_acc: 0.8498\n",
      "Epoch 2/20\n",
      "25000/25000 [==============================] - 3s 133us/sample - loss: 0.4041 - acc: 0.8820 - val_loss: 0.3778 - val_acc: 0.8738\n",
      "Epoch 3/20\n",
      "25000/25000 [==============================] - 3s 129us/sample - loss: 0.3078 - acc: 0.9016 - val_loss: 0.3206 - val_acc: 0.8834\n",
      "Epoch 4/20\n",
      "25000/25000 [==============================] - 3s 131us/sample - loss: 0.2513 - acc: 0.9161 - val_loss: 0.2925 - val_acc: 0.8887\n",
      "Epoch 5/20\n",
      "25000/25000 [==============================] - 3s 130us/sample - loss: 0.2156 - acc: 0.9261 - val_loss: 0.2803 - val_acc: 0.8909\n",
      "Epoch 6/20\n",
      "25000/25000 [==============================] - 3s 124us/sample - loss: 0.1914 - acc: 0.9344 - val_loss: 0.2781 - val_acc: 0.8890\n",
      "Epoch 7/20\n",
      "25000/25000 [==============================] - 3s 122us/sample - loss: 0.1729 - acc: 0.9403 - val_loss: 0.2841 - val_acc: 0.8851\n",
      "Epoch 8/20\n",
      "25000/25000 [==============================] - 3s 127us/sample - loss: 0.1584 - acc: 0.9468 - val_loss: 0.2843 - val_acc: 0.8874\n",
      "Epoch 9/20\n",
      "25000/25000 [==============================] - 3s 130us/sample - loss: 0.1453 - acc: 0.9505 - val_loss: 0.2967 - val_acc: 0.8836\n",
      "Epoch 10/20\n",
      "25000/25000 [==============================] - 3s 128us/sample - loss: 0.1345 - acc: 0.9550 - val_loss: 0.3018 - val_acc: 0.8828\n",
      "Epoch 11/20\n",
      "25000/25000 [==============================] - 3s 120us/sample - loss: 0.1253 - acc: 0.9579 - val_loss: 0.3127 - val_acc: 0.8803\n",
      "Epoch 12/20\n",
      "25000/25000 [==============================] - 3s 121us/sample - loss: 0.1167 - acc: 0.9619 - val_loss: 0.3248 - val_acc: 0.8789\n",
      "Epoch 13/20\n",
      "25000/25000 [==============================] - 3s 121us/sample - loss: 0.1097 - acc: 0.9649 - val_loss: 0.3372 - val_acc: 0.8777\n",
      "Epoch 14/20\n",
      "25000/25000 [==============================] - 3s 128us/sample - loss: 0.1025 - acc: 0.9669 - val_loss: 0.3479 - val_acc: 0.8762\n",
      "Epoch 15/20\n",
      "25000/25000 [==============================] - 3s 122us/sample - loss: 0.0958 - acc: 0.9710 - val_loss: 0.3669 - val_acc: 0.8722\n",
      "Epoch 16/20\n",
      "25000/25000 [==============================] - 3s 127us/sample - loss: 0.0898 - acc: 0.9721 - val_loss: 0.3786 - val_acc: 0.8727\n",
      "Epoch 17/20\n",
      "25000/25000 [==============================] - 3s 124us/sample - loss: 0.0841 - acc: 0.9743 - val_loss: 0.3965 - val_acc: 0.8690\n",
      "Epoch 18/20\n",
      "25000/25000 [==============================] - 3s 133us/sample - loss: 0.0791 - acc: 0.9765 - val_loss: 0.4114 - val_acc: 0.8676\n",
      "Epoch 19/20\n",
      "25000/25000 [==============================] - 3s 126us/sample - loss: 0.0743 - acc: 0.9779 - val_loss: 0.4298 - val_acc: 0.8670\n",
      "Epoch 20/20\n",
      "25000/25000 [==============================] - 3s 124us/sample - loss: 0.0691 - acc: 0.9804 - val_loss: 0.4467 - val_acc: 0.8640\n"
     ]
    }
   ],
   "source": [
    "smaller_model_hist = smaller_model.fit(x_train, y_train,\n",
    "                                       epochs=20,\n",
    "                                       batch_size=512,\n",
    "                                       validation_data=(x_test, y_test))"
   ]
  },
  {
   "cell_type": "code",
   "execution_count": 7,
   "metadata": {},
   "outputs": [],
   "source": [
    "epochs = range(1, 21)\n",
    "original_val_loss = original_hist.history['val_loss']\n",
    "smaller_model_val_loss = smaller_model_hist.history['val_loss']"
   ]
  },
  {
   "cell_type": "code",
   "execution_count": 9,
   "metadata": {},
   "outputs": [
    {
     "data": {
      "image/png": "[encoded data removed]",
      "text/plain": [
       "<Figure size 432x288 with 1 Axes>"
      ]
     },
     "metadata": {
      "needs_background": "light"
     },
     "output_type": "display_data"
    }
   ],
   "source": [
    "import matplotlib.pyplot as plt\n",
    "\n",
    "# b+ is for \"blue cross\"\n",
    "plt.plot(epochs, original_val_loss, 'b+', label='Original model')\n",
    "# \"bo\" is for \"blue dot\"\n",
    "plt.plot(epochs, smaller_model_val_loss, 'bo', label='Smaller model')\n",
    "plt.xlabel('Epochs')\n",
    "plt.ylabel('Validation loss')\n",
    "plt.legend()\n",
    "\n",
    "plt.show()"
   ]
  },
  {
   "cell_type": "markdown",
   "metadata": {},
   "source": [
    "# \n",
    "较小的网络开始过拟合比原网络晚(在6个迭代之后，而不是在4个迭代之后)，当它开始过度拟合时，它的性能下降要慢得多。\n",
    "\n",
    "现在，让我们在这个基准测试中添加一个具有更大容量的网络，这个网络的容量远远超过问题所需要的："
   ]
  },
  {
   "cell_type": "code",
   "execution_count": 10,
   "metadata": {},
   "outputs": [],
   "source": [
    "# 4-5容量更大的模型\n",
    "bigger_model = models.Sequential()\n",
    "bigger_model.add(layers.Dense(512, activation='relu', input_shape=(10000,)))\n",
    "bigger_model.add(layers.Dense(512, activation='relu'))\n",
    "bigger_model.add(layers.Dense(1, activation='sigmoid'))\n",
    "\n",
    "bigger_model.compile(optimizer='rmsprop',\n",
    "                     loss='binary_crossentropy',\n",
    "                     metrics=['acc'])"
   ]
  },
  {
   "cell_type": "code",
   "execution_count": 11,
   "metadata": {
    "scrolled": true
   },
   "outputs": [
    {
     "name": "stdout",
     "output_type": "stream",
     "text": [
      "Train on 25000 samples, validate on 25000 samples\n",
      "Epoch 1/20\n",
      "25000/25000 [==============================] - 5s 215us/sample - loss: 0.4794 - acc: 0.8093 - val_loss: 0.2829 - val_acc: 0.8829\n",
      "Epoch 2/20\n",
      "25000/25000 [==============================] - 4s 141us/sample - loss: 0.2237 - acc: 0.9101 - val_loss: 0.3019 - val_acc: 0.8765\n",
      "Epoch 3/20\n",
      "25000/25000 [==============================] - 3s 133us/sample - loss: 0.1226 - acc: 0.9542 - val_loss: 0.3593 - val_acc: 0.8844\n",
      "Epoch 4/20\n",
      "25000/25000 [==============================] - 3s 129us/sample - loss: 0.0596 - acc: 0.9812 - val_loss: 1.0745 - val_acc: 0.7686\n",
      "Epoch 5/20\n",
      "25000/25000 [==============================] - 4s 146us/sample - loss: 0.0309 - acc: 0.9901 - val_loss: 0.6354 - val_acc: 0.8760\n",
      "Epoch 6/20\n",
      "25000/25000 [==============================] - 3s 139us/sample - loss: 0.1189 - acc: 0.9888 - val_loss: 0.5451 - val_acc: 0.8803\n",
      "Epoch 7/20\n",
      "25000/25000 [==============================] - 3s 135us/sample - loss: 7.3417e-04 - acc: 1.0000 - val_loss: 0.7833 - val_acc: 0.8803\n",
      "Epoch 8/20\n",
      "25000/25000 [==============================] - 3s 130us/sample - loss: 0.0862 - acc: 0.9890 - val_loss: 0.6659 - val_acc: 0.8796\n",
      "Epoch 9/20\n",
      "25000/25000 [==============================] - 3s 134us/sample - loss: 2.3931e-04 - acc: 1.0000 - val_loss: 0.8582 - val_acc: 0.8798\n",
      "Epoch 10/20\n",
      "25000/25000 [==============================] - 3s 131us/sample - loss: 3.1991e-05 - acc: 1.0000 - val_loss: 1.0607 - val_acc: 0.8775\n",
      "Epoch 11/20\n",
      "25000/25000 [==============================] - 3s 129us/sample - loss: 0.1642 - acc: 0.9870 - val_loss: 0.9234 - val_acc: 0.8527\n",
      "Epoch 12/20\n",
      "25000/25000 [==============================] - 3s 128us/sample - loss: 0.0011 - acc: 0.9998 - val_loss: 0.8111 - val_acc: 0.8749\n",
      "Epoch 13/20\n",
      "25000/25000 [==============================] - 3s 129us/sample - loss: 3.8791e-04 - acc: 1.0000 - val_loss: 0.9214 - val_acc: 0.8776\n",
      "Epoch 14/20\n",
      "25000/25000 [==============================] - 3s 132us/sample - loss: 1.5449e-05 - acc: 1.0000 - val_loss: 1.0610 - val_acc: 0.8773\n",
      "Epoch 15/20\n",
      "25000/25000 [==============================] - 3s 132us/sample - loss: 1.7152e-06 - acc: 1.0000 - val_loss: 1.2185 - val_acc: 0.8768\n",
      "Epoch 16/20\n",
      "25000/25000 [==============================] - 3s 131us/sample - loss: 2.9909e-07 - acc: 1.0000 - val_loss: 1.3704 - val_acc: 0.8774\n",
      "Epoch 17/20\n",
      "25000/25000 [==============================] - 3s 132us/sample - loss: 5.4781e-08 - acc: 1.0000 - val_loss: 1.4984 - val_acc: 0.8774\n",
      "Epoch 18/20\n",
      "25000/25000 [==============================] - 3s 128us/sample - loss: 2.1959e-08 - acc: 1.0000 - val_loss: 1.5517 - val_acc: 0.8774\n",
      "Epoch 19/20\n",
      "25000/25000 [==============================] - 3s 130us/sample - loss: 1.3262e-08 - acc: 1.0000 - val_loss: 1.5872 - val_acc: 0.8772\n",
      "Epoch 20/20\n",
      "25000/25000 [==============================] - 3s 130us/sample - loss: 9.6298e-09 - acc: 1.0000 - val_loss: 1.6091 - val_acc: 0.8774\n"
     ]
    }
   ],
   "source": [
    "bigger_model_hist = bigger_model.fit(x_train, y_train,\n",
    "                                     epochs=20,\n",
    "                                     batch_size=512,\n",
    "                                     validation_data=(x_test, y_test))"
   ]
  },
  {
   "cell_type": "markdown",
   "metadata": {},
   "source": [
    "# \n",
    "与原始网络相比，更大的网络如下所示。点是较大网络的验证损失值，交叉是原始网络。"
   ]
  },
  {
   "cell_type": "code",
   "execution_count": 12,
   "metadata": {},
   "outputs": [
    {
     "data": {
      "image/png": "[encoded data removed]",
      "text/plain": [
       "<Figure size 432x288 with 1 Axes>"
      ]
     },
     "metadata": {
      "needs_background": "light"
     },
     "output_type": "display_data"
    }
   ],
   "source": [
    "bigger_model_val_loss = bigger_model_hist.history['val_loss']\n",
    "\n",
    "plt.plot(epochs, original_val_loss, 'b+', label='Original model')\n",
    "plt.plot(epochs, bigger_model_val_loss, 'bo', label='Bigger model')\n",
    "plt.xlabel('Epochs')\n",
    "plt.ylabel('Validation loss')\n",
    "plt.legend()\n",
    "\n",
    "plt.show()"
   ]
  },
  {
   "cell_type": "code",
   "execution_count": 13,
   "metadata": {},
   "outputs": [
    {
     "data": {
      "image/png": "[encoded data removed]",
      "text/plain": [
       "<Figure size 432x288 with 1 Axes>"
      ]
     },
     "metadata": {
      "needs_background": "light"
     },
     "output_type": "display_data"
    }
   ],
   "source": [
    "original_train_loss = original_hist.history['loss']\n",
    "bigger_model_train_loss = bigger_model_hist.history['loss']\n",
    "\n",
    "plt.plot(epochs, original_train_loss, 'b+', label='Original model')\n",
    "plt.plot(epochs, bigger_model_train_loss, 'bo', label='Bigger model')\n",
    "plt.xlabel('Epochs')\n",
    "plt.ylabel('Training loss')\n",
    "plt.legend()\n",
    "\n",
    "plt.show()"
   ]
  },
  {
   "cell_type": "markdown",
   "metadata": {},
   "source": [
    "# 加权正则化\n",
    "\n",
    "“简单模型”其中参数值的分布具有较小的熵(或者像我们在上面一节中看到的那样，一个参数较少的模型)。因此，减少过度拟合的一个常见方法是限制网络的复杂性，强制其权重只取较小的值，从而使权重值的分布更加“规则”。这被称为“加权正则化”，它是通过增加网络的损失函数来实现的。\n",
    "\n",
    "L1正则化，其中所增加的成本与权重系数绝对值(权值的“L1范数”)成正比。\n",
    "L2正则化，其中所增加的成本与权重系数值的平方(权值的“L2范数”)成正比。L2正则化也叫 权重衰减。\n",
    "在Keras中，权重正则化是通过传递正则化实例层作为关键字参数。"
   ]
  },
  {
   "cell_type": "code",
   "execution_count": 14,
   "metadata": {},
   "outputs": [],
   "source": [
    "# 4-6添加L2权重正则化\n",
    "from tensorflow.keras import regularizers\n",
    "\n",
    "l2_model = models.Sequential()\n",
    "l2_model.add(layers.Dense(16, kernel_regularizer=regularizers.l2(0.001),\n",
    "                          activation='relu', input_shape=(10000,)))\n",
    "l2_model.add(layers.Dense(16, kernel_regularizer=regularizers.l2(0.001),\n",
    "                          activation='relu'))\n",
    "l2_model.add(layers.Dense(1, activation='sigmoid'))"
   ]
  },
  {
   "cell_type": "code",
   "execution_count": 15,
   "metadata": {},
   "outputs": [],
   "source": [
    "l2_model.compile(optimizer='rmsprop',\n",
    "                 loss='binary_crossentropy',\n",
    "                 metrics=['acc'])"
   ]
  },
  {
   "cell_type": "markdown",
   "metadata": {},
   "source": [
    "# \n",
    "L2(0.001)意味着该层的权重矩阵的每个系数都会使网络总损失增加0.001 * weight_coefficient_value。 由于惩罚项只在训练时添加，所以这个网络的训练损失会比测试损失大很多。"
   ]
  },
  {
   "cell_type": "code",
   "execution_count": 16,
   "metadata": {},
   "outputs": [
    {
     "name": "stdout",
     "output_type": "stream",
     "text": [
      "Train on 25000 samples, validate on 25000 samples\n",
      "Epoch 1/20\n",
      "25000/25000 [==============================] - 4s 167us/sample - loss: 0.4967 - acc: 0.8232 - val_loss: 0.3813 - val_acc: 0.8814\n",
      "Epoch 2/20\n",
      "25000/25000 [==============================] - 3s 135us/sample - loss: 0.3176 - acc: 0.9020 - val_loss: 0.3468 - val_acc: 0.8794\n",
      "Epoch 3/20\n",
      "25000/25000 [==============================] - 3s 129us/sample - loss: 0.2716 - acc: 0.9195 - val_loss: 0.3370 - val_acc: 0.8828\n",
      "Epoch 4/20\n",
      "25000/25000 [==============================] - 3s 119us/sample - loss: 0.2491 - acc: 0.9278 - val_loss: 0.3420 - val_acc: 0.8815\n",
      "Epoch 5/20\n",
      "25000/25000 [==============================] - 3s 125us/sample - loss: 0.2348 - acc: 0.9330 - val_loss: 0.3482 - val_acc: 0.8808\n",
      "Epoch 6/20\n",
      "25000/25000 [==============================] - 3s 120us/sample - loss: 0.2272 - acc: 0.9360 - val_loss: 0.3448 - val_acc: 0.8833\n",
      "Epoch 7/20\n",
      "25000/25000 [==============================] - 3s 121us/sample - loss: 0.2180 - acc: 0.9413 - val_loss: 0.3707 - val_acc: 0.8759\n",
      "Epoch 8/20\n",
      "25000/25000 [==============================] - 3s 121us/sample - loss: 0.2140 - acc: 0.9421 - val_loss: 0.3631 - val_acc: 0.8770\n",
      "Epoch 9/20\n",
      "25000/25000 [==============================] - 3s 122us/sample - loss: 0.2078 - acc: 0.9447 - val_loss: 0.3912 - val_acc: 0.8708\n",
      "Epoch 10/20\n",
      "25000/25000 [==============================] - 3s 118us/sample - loss: 0.2061 - acc: 0.9448 - val_loss: 0.3844 - val_acc: 0.8720\n",
      "Epoch 11/20\n",
      "25000/25000 [==============================] - 3s 122us/sample - loss: 0.2013 - acc: 0.9472 - val_loss: 0.4124 - val_acc: 0.8640\n",
      "Epoch 12/20\n",
      "25000/25000 [==============================] - 3s 120us/sample - loss: 0.1981 - acc: 0.9480 - val_loss: 0.3981 - val_acc: 0.8683\n",
      "Epoch 13/20\n",
      "25000/25000 [==============================] - 3s 125us/sample - loss: 0.1951 - acc: 0.9493 - val_loss: 0.3921 - val_acc: 0.8724\n",
      "Epoch 14/20\n",
      "25000/25000 [==============================] - 3s 123us/sample - loss: 0.1901 - acc: 0.9514 - val_loss: 0.3986 - val_acc: 0.8716\n",
      "Epoch 15/20\n",
      "25000/25000 [==============================] - 3s 120us/sample - loss: 0.1901 - acc: 0.9524 - val_loss: 0.4096 - val_acc: 0.8705\n",
      "Epoch 16/20\n",
      "25000/25000 [==============================] - 3s 122us/sample - loss: 0.1922 - acc: 0.9506 - val_loss: 0.4110 - val_acc: 0.8701\n",
      "Epoch 17/20\n",
      "25000/25000 [==============================] - 3s 129us/sample - loss: 0.1866 - acc: 0.9523 - val_loss: 0.4122 - val_acc: 0.8684\n",
      "Epoch 18/20\n",
      "25000/25000 [==============================] - 3s 139us/sample - loss: 0.1803 - acc: 0.9562 - val_loss: 0.4147 - val_acc: 0.8681\n",
      "Epoch 19/20\n",
      "25000/25000 [==============================] - 3s 139us/sample - loss: 0.1816 - acc: 0.9539 - val_loss: 0.4153 - val_acc: 0.8698\n",
      "Epoch 20/20\n",
      "25000/25000 [==============================] - 4s 141us/sample - loss: 0.1752 - acc: 0.9572 - val_loss: 0.4573 - val_acc: 0.8568\n"
     ]
    }
   ],
   "source": [
    "l2_model_hist = l2_model.fit(x_train, y_train,\n",
    "                             epochs=20,\n",
    "                             batch_size=512,\n",
    "                             validation_data=(x_test, y_test))"
   ]
  },
  {
   "cell_type": "code",
   "execution_count": 17,
   "metadata": {},
   "outputs": [
    {
     "data": {
      "image/png": "[encoded data removed]",
      "text/plain": [
       "<Figure size 432x288 with 1 Axes>"
      ]
     },
     "metadata": {
      "needs_background": "light"
     },
     "output_type": "display_data"
    }
   ],
   "source": [
    "l2_model_val_loss = l2_model_hist.history['val_loss']\n",
    "\n",
    "plt.plot(epochs, original_val_loss, 'b+', label='Original model')\n",
    "plt.plot(epochs, l2_model_val_loss, 'bo', label='L2-regularized model')\n",
    "plt.xlabel('Epochs')\n",
    "plt.ylabel('Validation loss')\n",
    "plt.legend()\n",
    "\n",
    "plt.show()"
   ]
  },
  {
   "cell_type": "markdown",
   "metadata": {},
   "source": [
    "# 添加dropout正则化\n",
    "dropout时神经网络最有效也最常用的正则化方法之一，对某一层使用dropout，就是在训练过程中随机将该层的一些输出特征舍弃。假设某一层返回值应该是向量[0.2, 0.5, 1.3, 0.8]，使用dropout后，这个向量会变成[0, 0.5, 0, 0.8]。其中会有几个随机的元素变成0。dropout比率是被设为0的特征的所占的比例，通常在0.2-0.5范围内。\n",
    "\n"
   ]
  },
  {
   "cell_type": "code",
   "execution_count": 25,
   "metadata": {},
   "outputs": [],
   "source": [
    "# 4-8向网络中添加dropout\n",
    "dpt_model = models.Sequential()\n",
    "dpt_model.add(layers.Dense(16, activation='relu', input_shape=(10000,)))\n",
    "dpt_model.add(layers.Dropout(0.5))\n",
    "dpt_model.add(layers.Dense(16, activation='relu'))\n",
    "dpt_model.add(layers.Dropout(0.5))\n",
    "dpt_model.add(layers.Dense(1, activation='sigmoid'))\n",
    "\n",
    "dpt_model.compile(optimizer='rmsprop',\n",
    "                  loss='binary_crossentropy',\n",
    "                  metrics=['acc'])"
   ]
  },
  {
   "cell_type": "code",
   "execution_count": 26,
   "metadata": {},
   "outputs": [
    {
     "name": "stdout",
     "output_type": "stream",
     "text": [
      "Train on 25000 samples, validate on 25000 samples\n",
      "Epoch 1/20\n",
      "25000/25000 [==============================] - 5s 219us/sample - loss: 0.5779 - acc: 0.7012 - val_loss: 0.4295 - val_acc: 0.8623\n",
      "Epoch 2/20\n",
      "25000/25000 [==============================] - 3s 138us/sample - loss: 0.4314 - acc: 0.8194 - val_loss: 0.3261 - val_acc: 0.8816\n",
      "Epoch 3/20\n",
      "25000/25000 [==============================] - 3s 133us/sample - loss: 0.3499 - acc: 0.8657 - val_loss: 0.2873 - val_acc: 0.8882\n",
      "Epoch 4/20\n",
      "25000/25000 [==============================] - 3s 122us/sample - loss: 0.2986 - acc: 0.8901 - val_loss: 0.2890 - val_acc: 0.8857\n",
      "Epoch 5/20\n",
      "25000/25000 [==============================] - 3s 125us/sample - loss: 0.2600 - acc: 0.9083 - val_loss: 0.2827 - val_acc: 0.8882\n",
      "Epoch 6/20\n",
      "25000/25000 [==============================] - 3s 125us/sample - loss: 0.2313 - acc: 0.9208 - val_loss: 0.2851 - val_acc: 0.8884\n",
      "Epoch 7/20\n",
      "25000/25000 [==============================] - 3s 124us/sample - loss: 0.2078 - acc: 0.9311 - val_loss: 0.3078 - val_acc: 0.8830\n",
      "Epoch 8/20\n",
      "25000/25000 [==============================] - 3s 130us/sample - loss: 0.1893 - acc: 0.9370 - val_loss: 0.3120 - val_acc: 0.8864\n",
      "Epoch 9/20\n",
      "25000/25000 [==============================] - 3s 131us/sample - loss: 0.1739 - acc: 0.9429 - val_loss: 0.3580 - val_acc: 0.8801\n",
      "Epoch 10/20\n",
      "25000/25000 [==============================] - 3s 127us/sample - loss: 0.1628 - acc: 0.9470 - val_loss: 0.3611 - val_acc: 0.8817\n",
      "Epoch 11/20\n",
      "25000/25000 [==============================] - 3s 122us/sample - loss: 0.1479 - acc: 0.9526 - val_loss: 0.4014 - val_acc: 0.8790\n",
      "Epoch 12/20\n",
      "25000/25000 [==============================] - 3s 121us/sample - loss: 0.1388 - acc: 0.9541 - val_loss: 0.4008 - val_acc: 0.8796\n",
      "Epoch 13/20\n",
      "25000/25000 [==============================] - 3s 119us/sample - loss: 0.1331 - acc: 0.9582 - val_loss: 0.4217 - val_acc: 0.8783\n",
      "Epoch 14/20\n",
      "25000/25000 [==============================] - 3s 126us/sample - loss: 0.1229 - acc: 0.9598 - val_loss: 0.4758 - val_acc: 0.8795\n",
      "Epoch 15/20\n",
      "25000/25000 [==============================] - 3s 127us/sample - loss: 0.1196 - acc: 0.9619 - val_loss: 0.4820 - val_acc: 0.8769\n",
      "Epoch 16/20\n",
      "25000/25000 [==============================] - 3s 122us/sample - loss: 0.1193 - acc: 0.9605 - val_loss: 0.4916 - val_acc: 0.8762\n",
      "Epoch 17/20\n",
      "25000/25000 [==============================] - 3s 120us/sample - loss: 0.1084 - acc: 0.9652 - val_loss: 0.5395 - val_acc: 0.8744\n",
      "Epoch 18/20\n",
      "25000/25000 [==============================] - 3s 120us/sample - loss: 0.1077 - acc: 0.9658 - val_loss: 0.5547 - val_acc: 0.8753\n",
      "Epoch 19/20\n",
      "25000/25000 [==============================] - 3s 121us/sample - loss: 0.1071 - acc: 0.9660 - val_loss: 0.5847 - val_acc: 0.8743\n",
      "Epoch 20/20\n",
      "25000/25000 [==============================] - 3s 121us/sample - loss: 0.1035 - acc: 0.9675 - val_loss: 0.5916 - val_acc: 0.8728\n"
     ]
    }
   ],
   "source": [
    "dpt_model_hist = dpt_model.fit(x_train, y_train,\n",
    "                               epochs=20,\n",
    "                               batch_size=512,\n",
    "                               validation_data=(x_test, y_test))"
   ]
  },
  {
   "cell_type": "code",
   "execution_count": 27,
   "metadata": {},
   "outputs": [
    {
     "data": {
      "image/png": "[encoded data removed]",
      "text/plain": [
       "<Figure size 432x288 with 1 Axes>"
      ]
     },
     "metadata": {
      "needs_background": "light"
     },
     "output_type": "display_data"
    }
   ],
   "source": [
    "dpt_model_val_loss = dpt_model_hist.history['val_loss']\n",
    "\n",
    "plt.plot(epochs, original_val_loss, 'b+', label='Original model')\n",
    "plt.plot(epochs, dpt_model_val_loss, 'bo', label='Dropout-regularized model')\n",
    "plt.xlabel('Epochs')\n",
    "plt.ylabel('Validation loss')\n",
    "plt.legend()\n",
    "\n",
    "plt.show()"
   ]
  },
  {
   "cell_type": "markdown",
   "metadata": {},
   "source": [
    "# 总结\n",
    "机器学习的通用工作流程\n",
    "1 定义问题，收集数据集\n",
    "2 选择衡量成功的指标\n",
    "3 确定评估方法 （留出验证集 K折交叉验证 重复的K折验证）\n",
    "4 准备数据 （数据预处理：向量化 值标准化 处理缺失值）\n",
    "5 开发比基准更好的模型 （三个关键参数：最后一层的激活 损失函数 优化配置）\n",
    "6 扩大模型规模：开发过拟合的模型\n",
    "7 模型正则化与调节超参数（防止过拟合方法： 获取更多的数据 减小网络容量 添加权重正则化 添加dropout）\n",
    "\n",
    "正确选择最后一层激活和损失函数                                                                          \n",
    "二分类问题         sigmoid    binary_crossentropy                                                           \n",
    "多分类  多标签问题    softmax    categorical_crossentropy                                                       \n",
    "多分类  单标签问题    sigmoid    binary_crossentropy                                                          \n",
    "回归到任意值        无       mse                                                                     \n",
    "回归到0-1范围内的值   sigmoid    mse或binary_crossentropy                                                       "
   ]
  },
  {
   "cell_type": "code",
   "execution_count": null,
   "metadata": {},
   "outputs": [],
   "source": []
  }
 ],
 "metadata": {
  "kernelspec": {
   "display_name": "Python 3",
   "language": "python",
   "name": "python3"
  },
  "language_info": {
   "codemirror_mode": {
    "name": "ipython",
    "version": 3
   },
   "file_extension": ".py",
   "mimetype": "text/x-python",
   "name": "python",
   "nbconvert_exporter": "python",
   "pygments_lexer": "ipython3",
   "version": "3.7.3"
  }
 },
 "nbformat": 4,
 "nbformat_minor": 2
}
