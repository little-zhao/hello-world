{
 "cells": [
  {
   "cell_type": "code",
   "execution_count": 1,
   "metadata": {},
   "outputs": [
    {
     "data": {
      "text/plain": [
       "'2.0.0'"
      ]
     },
     "execution_count": 1,
     "metadata": {},
     "output_type": "execute_result"
    }
   ],
   "source": [
    "import tensorflow as tf\n",
    "from tensorflow import keras\n",
    "tf.__version__"
   ]
  },
  {
   "cell_type": "code",
   "execution_count": 2,
   "metadata": {},
   "outputs": [],
   "source": [
    "#建议采用GPU进行训练，需要使用tensorflow-gpu-2.0并设置memory_growth\n",
    "for gpu in tf.config.experimental.list_physical_devices('GPU'):\n",
    "    tf.config.experimental.set_memory_growth(gpu,True)"
   ]
  },
  {
   "cell_type": "markdown",
   "metadata": {},
   "source": [
    "# 使用预训练的卷积神经网络\n",
    "\n",
    "想要将深度学习应用于小型图像数据集，一种常用且非常高效的方法是使用预训练网络。预训练网络是一个保存好的网络，之前已在大型数据集上训练好。\n",
    "使用预训练网络有两种方法：提取特征和微调模型"
   ]
  },
  {
   "cell_type": "markdown",
   "metadata": {},
   "source": [
    "# 特征提取\n",
    "\n",
    "特征提取是使用之前网络学到的表示来从新样本中提取有趣的特征。然后将这些特征输入一个新的分类器，从头开始训练。"
   ]
  },
  {
   "cell_type": "code",
   "execution_count": 3,
   "metadata": {},
   "outputs": [],
   "source": [
    "# 5-16将VGG16卷积基实例化\n",
    "from tensorflow.keras.applications import VGG16\n",
    "conv_base=VGG16(weights='imagenet',\n",
    "               include_top=False,\n",
    "               input_shape=(150,150,3))"
   ]
  },
  {
   "cell_type": "markdown",
   "metadata": {},
   "source": [
    "# \n",
    "我们向构造函数传递了三个参数：\n",
    "\n",
    "weights，指定模型初始化的权重检查点\n",
    "include_top，指定模型最好是否包含全连接层分类器。\n",
    "input_shape，输入到网络中的图像张量的形状"
   ]
  },
  {
   "cell_type": "code",
   "execution_count": 4,
   "metadata": {},
   "outputs": [
    {
     "name": "stdout",
     "output_type": "stream",
     "text": [
      "Model: \"vgg16\"\n",
      "_________________________________________________________________\n",
      "Layer (type)                 Output Shape              Param #   \n",
      "=================================================================\n",
      "input_1 (InputLayer)         [(None, 150, 150, 3)]     0         \n",
      "_________________________________________________________________\n",
      "block1_conv1 (Conv2D)        (None, 150, 150, 64)      1792      \n",
      "_________________________________________________________________\n",
      "block1_conv2 (Conv2D)        (None, 150, 150, 64)      36928     \n",
      "_________________________________________________________________\n",
      "block1_pool (MaxPooling2D)   (None, 75, 75, 64)        0         \n",
      "_________________________________________________________________\n",
      "block2_conv1 (Conv2D)        (None, 75, 75, 128)       73856     \n",
      "_________________________________________________________________\n",
      "block2_conv2 (Conv2D)        (None, 75, 75, 128)       147584    \n",
      "_________________________________________________________________\n",
      "block2_pool (MaxPooling2D)   (None, 37, 37, 128)       0         \n",
      "_________________________________________________________________\n",
      "block3_conv1 (Conv2D)        (None, 37, 37, 256)       295168    \n",
      "_________________________________________________________________\n",
      "block3_conv2 (Conv2D)        (None, 37, 37, 256)       590080    \n",
      "_________________________________________________________________\n",
      "block3_conv3 (Conv2D)        (None, 37, 37, 256)       590080    \n",
      "_________________________________________________________________\n",
      "block3_pool (MaxPooling2D)   (None, 18, 18, 256)       0         \n",
      "_________________________________________________________________\n",
      "block4_conv1 (Conv2D)        (None, 18, 18, 512)       1180160   \n",
      "_________________________________________________________________\n",
      "block4_conv2 (Conv2D)        (None, 18, 18, 512)       2359808   \n",
      "_________________________________________________________________\n",
      "block4_conv3 (Conv2D)        (None, 18, 18, 512)       2359808   \n",
      "_________________________________________________________________\n",
      "block4_pool (MaxPooling2D)   (None, 9, 9, 512)         0         \n",
      "_________________________________________________________________\n",
      "block5_conv1 (Conv2D)        (None, 9, 9, 512)         2359808   \n",
      "_________________________________________________________________\n",
      "block5_conv2 (Conv2D)        (None, 9, 9, 512)         2359808   \n",
      "_________________________________________________________________\n",
      "block5_conv3 (Conv2D)        (None, 9, 9, 512)         2359808   \n",
      "_________________________________________________________________\n",
      "block5_pool (MaxPooling2D)   (None, 4, 4, 512)         0         \n",
      "=================================================================\n",
      "Total params: 14,714,688\n",
      "Trainable params: 14,714,688\n",
      "Non-trainable params: 0\n",
      "_________________________________________________________________\n"
     ]
    }
   ],
   "source": [
    "conv_base.summary()"
   ]
  },
  {
   "cell_type": "markdown",
   "metadata": {},
   "source": [
    "# \n",
    "最终特征图形状为(4, 4, 512)。我们将在这个特征上添加一个全连接分类器。\n",
    "\n",
    "有两种方法\n",
    "\n",
    "1 在你的数据上运行卷积基，将输出保存成硬盘中的Numpy数组，然后用这个数据作为输入，输入到独立的分类器中。这种方法不允许你使用数据增强。\n",
    "2 在顶部添加Dense层来扩展已有模型，并在输入数据上端到端的运行这个模型。这样可以使用数据增强，但是计算代价比较高。"
   ]
  },
  {
   "cell_type": "code",
   "execution_count": 5,
   "metadata": {},
   "outputs": [
    {
     "name": "stdout",
     "output_type": "stream",
     "text": [
      "Found 2000 images belonging to 2 classes.\n",
      "Found 1000 images belonging to 2 classes.\n",
      "Found 1000 images belonging to 2 classes.\n"
     ]
    }
   ],
   "source": [
    "# 5-17使用预训练的卷积基提取特征\n",
    "import os\n",
    "import numpy as np\n",
    "from tensorflow.keras.preprocessing.image import ImageDataGenerator\n",
    "\n",
    "base_dir = r'E:\\数据\\kaggle_cat_vs_dog\\cat_and_dogs_small'\n",
    "\n",
    "train_dir = os.path.join(base_dir, 'train')\n",
    "validation_dir = os.path.join(base_dir, 'validation')\n",
    "test_dir = os.path.join(base_dir, 'test')\n",
    "\n",
    "datagen = ImageDataGenerator(rescale=1./255)\n",
    "batch_size = 20\n",
    "\n",
    "def extract_features(directory, sample_count):\n",
    "    features = np.zeros(shape=(sample_count, 4, 4, 512))\n",
    "    labels = np.zeros(shape=(sample_count))\n",
    "    generator = datagen.flow_from_directory(\n",
    "        directory,\n",
    "        target_size=(150, 150),\n",
    "        batch_size=batch_size,\n",
    "        class_mode='binary')\n",
    "    i = 0\n",
    "    for inputs_batch, labels_batch in generator:\n",
    "        features_batch = conv_base.predict(inputs_batch)\n",
    "        features[i * batch_size : (i + 1) * batch_size] = features_batch\n",
    "        labels[i * batch_size : (i + 1) * batch_size] = labels_batch\n",
    "        i += 1\n",
    "        if i * batch_size >= sample_count:\n",
    "            break\n",
    "    return features, labels\n",
    "\n",
    "train_features, train_labels = extract_features(train_dir, 2000)\n",
    "validation_features, validation_labels = extract_features(validation_dir, 1000)\n",
    "test_features, test_labels = extract_features(test_dir, 1000)"
   ]
  },
  {
   "cell_type": "markdown",
   "metadata": {},
   "source": [
    "# \n",
    "所提取的特征目前形状(samples, 4, 4, 512)。我们将把它们输入到一个全连接层的分类器中，所以首先我们必须把它们压平(samples, 8192):"
   ]
  },
  {
   "cell_type": "code",
   "execution_count": 6,
   "metadata": {},
   "outputs": [],
   "source": [
    "train_features = np.reshape(train_features, (2000, 4 * 4 * 512))\n",
    "validation_features = np.reshape(validation_features, (1000, 4 * 4 * 512))\n",
    "test_features = np.reshape(test_features, (1000, 4 * 4 * 512))"
   ]
  },
  {
   "cell_type": "code",
   "execution_count": 7,
   "metadata": {},
   "outputs": [
    {
     "name": "stdout",
     "output_type": "stream",
     "text": [
      "Train on 2000 samples, validate on 1000 samples\n",
      "Epoch 1/30\n",
      "2000/2000 [==============================] - 2s 787us/sample - loss: 0.6096 - acc: 0.6510 - val_loss: 0.4509 - val_acc: 0.8430\n",
      "Epoch 2/30\n",
      "2000/2000 [==============================] - 1s 269us/sample - loss: 0.4339 - acc: 0.8075 - val_loss: 0.3695 - val_acc: 0.8570\n",
      "Epoch 3/30\n",
      "2000/2000 [==============================] - 0s 242us/sample - loss: 0.3611 - acc: 0.8560 - val_loss: 0.3321 - val_acc: 0.8670\n",
      "Epoch 4/30\n",
      "2000/2000 [==============================] - 0s 240us/sample - loss: 0.3137 - acc: 0.8700 - val_loss: 0.3243 - val_acc: 0.8560\n",
      "Epoch 5/30\n",
      "2000/2000 [==============================] - 0s 241us/sample - loss: 0.2907 - acc: 0.8815 - val_loss: 0.2891 - val_acc: 0.8860\n",
      "Epoch 6/30\n",
      "2000/2000 [==============================] - 0s 241us/sample - loss: 0.2634 - acc: 0.8940 - val_loss: 0.2784 - val_acc: 0.8930\n",
      "Epoch 7/30\n",
      "2000/2000 [==============================] - 1s 271us/sample - loss: 0.2487 - acc: 0.8955 - val_loss: 0.2712 - val_acc: 0.8920\n",
      "Epoch 8/30\n",
      "2000/2000 [==============================] - 1s 258us/sample - loss: 0.2348 - acc: 0.9015 - val_loss: 0.2685 - val_acc: 0.8900\n",
      "Epoch 9/30\n",
      "2000/2000 [==============================] - 1s 274us/sample - loss: 0.2130 - acc: 0.9175 - val_loss: 0.2588 - val_acc: 0.8930\n",
      "Epoch 10/30\n",
      "2000/2000 [==============================] - 0s 238us/sample - loss: 0.2009 - acc: 0.9240 - val_loss: 0.2546 - val_acc: 0.8980\n",
      "Epoch 11/30\n",
      "2000/2000 [==============================] - 1s 255us/sample - loss: 0.1931 - acc: 0.9275 - val_loss: 0.2540 - val_acc: 0.8950\n",
      "Epoch 12/30\n",
      "2000/2000 [==============================] - 0s 238us/sample - loss: 0.1864 - acc: 0.9285 - val_loss: 0.2522 - val_acc: 0.8970\n",
      "Epoch 13/30\n",
      "2000/2000 [==============================] - 0s 237us/sample - loss: 0.1791 - acc: 0.9380 - val_loss: 0.2494 - val_acc: 0.9000\n",
      "Epoch 14/30\n",
      "2000/2000 [==============================] - 0s 240us/sample - loss: 0.1637 - acc: 0.9440 - val_loss: 0.2441 - val_acc: 0.9020\n",
      "Epoch 15/30\n",
      "2000/2000 [==============================] - 0s 239us/sample - loss: 0.1603 - acc: 0.9390 - val_loss: 0.2436 - val_acc: 0.9030\n",
      "Epoch 16/30\n",
      "2000/2000 [==============================] - 0s 237us/sample - loss: 0.1548 - acc: 0.9415 - val_loss: 0.2455 - val_acc: 0.9000\n",
      "Epoch 17/30\n",
      "2000/2000 [==============================] - 0s 239us/sample - loss: 0.1497 - acc: 0.9490 - val_loss: 0.2483 - val_acc: 0.8970\n",
      "Epoch 18/30\n",
      "2000/2000 [==============================] - 0s 245us/sample - loss: 0.1380 - acc: 0.9525 - val_loss: 0.2398 - val_acc: 0.9030\n",
      "Epoch 19/30\n",
      "2000/2000 [==============================] - 1s 288us/sample - loss: 0.1295 - acc: 0.9565 - val_loss: 0.2408 - val_acc: 0.9030\n",
      "Epoch 20/30\n",
      "2000/2000 [==============================] - 0s 249us/sample - loss: 0.1262 - acc: 0.9620 - val_loss: 0.2450 - val_acc: 0.9020\n",
      "Epoch 21/30\n",
      "2000/2000 [==============================] - 0s 227us/sample - loss: 0.1239 - acc: 0.9620 - val_loss: 0.2439 - val_acc: 0.9030\n",
      "Epoch 22/30\n",
      "2000/2000 [==============================] - 0s 250us/sample - loss: 0.1232 - acc: 0.9575 - val_loss: 0.2401 - val_acc: 0.9000\n",
      "Epoch 23/30\n",
      "2000/2000 [==============================] - 1s 277us/sample - loss: 0.1149 - acc: 0.9630 - val_loss: 0.2392 - val_acc: 0.9020\n",
      "Epoch 24/30\n",
      "2000/2000 [==============================] - 0s 226us/sample - loss: 0.1109 - acc: 0.9610 - val_loss: 0.2392 - val_acc: 0.9010\n",
      "Epoch 25/30\n",
      "2000/2000 [==============================] - 0s 238us/sample - loss: 0.1042 - acc: 0.9655 - val_loss: 0.2410 - val_acc: 0.8990\n",
      "Epoch 26/30\n",
      "2000/2000 [==============================] - 0s 237us/sample - loss: 0.0995 - acc: 0.9700 - val_loss: 0.2420 - val_acc: 0.9020\n",
      "Epoch 27/30\n",
      "2000/2000 [==============================] - 0s 235us/sample - loss: 0.1001 - acc: 0.9695 - val_loss: 0.2485 - val_acc: 0.9020\n",
      "Epoch 28/30\n",
      "2000/2000 [==============================] - 0s 249us/sample - loss: 0.0928 - acc: 0.9710 - val_loss: 0.2406 - val_acc: 0.9020\n",
      "Epoch 29/30\n",
      "2000/2000 [==============================] - 1s 250us/sample - loss: 0.0881 - acc: 0.9745 - val_loss: 0.2524 - val_acc: 0.8980\n",
      "Epoch 30/30\n",
      "2000/2000 [==============================] - 1s 256us/sample - loss: 0.0830 - acc: 0.9775 - val_loss: 0.2416 - val_acc: 0.9000\n"
     ]
    }
   ],
   "source": [
    "# 5-18定义并训练密集连接分类器\n",
    "from tensorflow.keras import models\n",
    "from tensorflow.keras import layers\n",
    "from tensorflow.keras import optimizers\n",
    "\n",
    "model = models.Sequential()\n",
    "model.add(layers.Dense(256, activation='relu', input_dim=4 * 4 * 512))\n",
    "model.add(layers.Dropout(0.5))\n",
    "model.add(layers.Dense(1, activation='sigmoid'))\n",
    "\n",
    "model.compile(optimizer=optimizers.RMSprop(lr=2e-5),\n",
    "              loss='binary_crossentropy',\n",
    "              metrics=['acc'])\n",
    "\n",
    "history = model.fit(train_features, train_labels,\n",
    "                    epochs=30,\n",
    "                    batch_size=20,\n",
    "                    validation_data=(validation_features, validation_labels))"
   ]
  },
  {
   "cell_type": "code",
   "execution_count": 9,
   "metadata": {},
   "outputs": [
    {
     "data": {
      "image/png": "[encoded data removed]",
      "text/plain": [
       "<Figure size 432x288 with 1 Axes>"
      ]
     },
     "metadata": {
      "needs_background": "light"
     },
     "output_type": "display_data"
    },
    {
     "data": {
      "image/png": "[encoded data removed]",
      "text/plain": [
       "<Figure size 432x288 with 1 Axes>"
      ]
     },
     "metadata": {
      "needs_background": "light"
     },
     "output_type": "display_data"
    }
   ],
   "source": [
    "# 5-19绘制结果\n",
    "import matplotlib.pyplot as plt\n",
    "\n",
    "acc = history.history['acc']\n",
    "val_acc = history.history['val_acc']\n",
    "loss = history.history['loss']\n",
    "val_loss = history.history['val_loss']\n",
    "\n",
    "epochs = range(len(acc))\n",
    "\n",
    "plt.plot(epochs, acc, 'bo', label='Training acc')\n",
    "plt.plot(epochs, val_acc, 'b', label='Validation acc')\n",
    "plt.title('Training and validation accuracy')\n",
    "plt.legend()\n",
    "\n",
    "plt.figure()\n",
    "\n",
    "plt.plot(epochs, loss, 'bo', label='Training loss')\n",
    "plt.plot(epochs, val_loss, 'b', label='Validation loss')\n",
    "plt.title('Training and validation loss')\n",
    "plt.legend()\n",
    "\n",
    "plt.show()"
   ]
  },
  {
   "cell_type": "markdown",
   "metadata": {},
   "source": [
    "# \n",
    "验证精度达到了90%\n"
   ]
  },
  {
   "cell_type": "markdown",
   "metadata": {},
   "source": [
    "# 使用数据增强的特征提取"
   ]
  },
  {
   "cell_type": "code",
   "execution_count": 10,
   "metadata": {},
   "outputs": [],
   "source": [
    "# 5-20在卷积基上添加一个密集连接分类器\n",
    "from tensorflow.keras import models\n",
    "from tensorflow.keras import layers\n",
    "\n",
    "model = models.Sequential()\n",
    "model.add(conv_base)\n",
    "model.add(layers.Flatten())\n",
    "model.add(layers.Dense(256, activation='relu'))\n",
    "model.add(layers.Dense(1, activation='sigmoid'))"
   ]
  },
  {
   "cell_type": "code",
   "execution_count": 11,
   "metadata": {},
   "outputs": [
    {
     "name": "stdout",
     "output_type": "stream",
     "text": [
      "Model: \"sequential_1\"\n",
      "_________________________________________________________________\n",
      "Layer (type)                 Output Shape              Param #   \n",
      "=================================================================\n",
      "vgg16 (Model)                (None, 4, 4, 512)         14714688  \n",
      "_________________________________________________________________\n",
      "flatten (Flatten)            (None, 8192)              0         \n",
      "_________________________________________________________________\n",
      "dense_2 (Dense)              (None, 256)               2097408   \n",
      "_________________________________________________________________\n",
      "dense_3 (Dense)              (None, 1)                 257       \n",
      "=================================================================\n",
      "Total params: 16,812,353\n",
      "Trainable params: 16,812,353\n",
      "Non-trainable params: 0\n",
      "_________________________________________________________________\n"
     ]
    }
   ],
   "source": [
    "model.summary()"
   ]
  },
  {
   "cell_type": "markdown",
   "metadata": {},
   "source": [
    "# \n",
    "如你所见，VGG16的卷积基有14,714,688个参数，这是非常大的。我们在上添加的分类器有200万个参数。\n",
    "\n",
    "在编译和训练模型之前，一定要冻结卷积基，冻结一个或多个层是指在训练过程中保持其权重不变。如果不这么做，那么卷积基之前学到的表示将会在训练过程中被修改。\n",
    "冻结网络的方法是将其trainable属性设为False"
   ]
  },
  {
   "cell_type": "code",
   "execution_count": 12,
   "metadata": {},
   "outputs": [
    {
     "name": "stdout",
     "output_type": "stream",
     "text": [
      "This is the number of trainable weights before freezing the conv base: 30\n"
     ]
    }
   ],
   "source": [
    "print('This is the number of trainable weights '\n",
    "      'before freezing the conv base:', len(model.trainable_weights))"
   ]
  },
  {
   "cell_type": "code",
   "execution_count": 13,
   "metadata": {},
   "outputs": [],
   "source": [
    "conv_base.trainable = False"
   ]
  },
  {
   "cell_type": "code",
   "execution_count": 14,
   "metadata": {},
   "outputs": [
    {
     "name": "stdout",
     "output_type": "stream",
     "text": [
      "This is the number of trainable weights after freezing the conv base: 4\n"
     ]
    }
   ],
   "source": [
    "print('This is the number of trainable weights '\n",
    "      'after freezing the conv base:', len(model.trainable_weights))"
   ]
  },
  {
   "cell_type": "markdown",
   "metadata": {},
   "source": [
    "# \n",
    "设置后，只有添加的两个Dense层的权重才会被训练。"
   ]
  },
  {
   "cell_type": "code",
   "execution_count": 15,
   "metadata": {},
   "outputs": [
    {
     "name": "stdout",
     "output_type": "stream",
     "text": [
      "Found 2000 images belonging to 2 classes.\n",
      "Found 1000 images belonging to 2 classes.\n",
      "Epoch 1/30\n",
      "100/100 - 29s - loss: 0.5773 - acc: 0.7065 - val_loss: 0.4458 - val_acc: 0.8210\n",
      "Epoch 2/30\n",
      "100/100 - 27s - loss: 0.4806 - acc: 0.7815 - val_loss: 0.3813 - val_acc: 0.8420\n",
      "Epoch 3/30\n",
      "100/100 - 27s - loss: 0.4434 - acc: 0.8035 - val_loss: 0.3368 - val_acc: 0.8530\n",
      "Epoch 4/30\n",
      "100/100 - 27s - loss: 0.4102 - acc: 0.8290 - val_loss: 0.3108 - val_acc: 0.8750\n",
      "Epoch 5/30\n",
      "100/100 - 27s - loss: 0.3963 - acc: 0.8255 - val_loss: 0.2959 - val_acc: 0.8760\n",
      "Epoch 6/30\n",
      "100/100 - 27s - loss: 0.3588 - acc: 0.8435 - val_loss: 0.2835 - val_acc: 0.8880\n",
      "Epoch 7/30\n",
      "100/100 - 27s - loss: 0.3494 - acc: 0.8385 - val_loss: 0.2821 - val_acc: 0.8780\n",
      "Epoch 8/30\n",
      "100/100 - 27s - loss: 0.3466 - acc: 0.8495 - val_loss: 0.2634 - val_acc: 0.8950\n",
      "Epoch 9/30\n",
      "100/100 - 27s - loss: 0.3390 - acc: 0.8510 - val_loss: 0.2624 - val_acc: 0.8940\n",
      "Epoch 10/30\n",
      "100/100 - 27s - loss: 0.3364 - acc: 0.8480 - val_loss: 0.2617 - val_acc: 0.8960\n",
      "Epoch 11/30\n",
      "100/100 - 27s - loss: 0.3324 - acc: 0.8525 - val_loss: 0.2540 - val_acc: 0.8900\n",
      "Epoch 12/30\n",
      "100/100 - 27s - loss: 0.3286 - acc: 0.8575 - val_loss: 0.2521 - val_acc: 0.8940\n",
      "Epoch 13/30\n",
      "100/100 - 27s - loss: 0.3236 - acc: 0.8560 - val_loss: 0.2549 - val_acc: 0.8920\n",
      "Epoch 14/30\n",
      "100/100 - 27s - loss: 0.3132 - acc: 0.8635 - val_loss: 0.2454 - val_acc: 0.8990\n",
      "Epoch 15/30\n",
      "100/100 - 27s - loss: 0.3253 - acc: 0.8530 - val_loss: 0.2596 - val_acc: 0.8870\n",
      "Epoch 16/30\n",
      "100/100 - 27s - loss: 0.3015 - acc: 0.8740 - val_loss: 0.2432 - val_acc: 0.9010\n",
      "Epoch 17/30\n",
      "100/100 - 27s - loss: 0.3102 - acc: 0.8670 - val_loss: 0.2400 - val_acc: 0.9000\n",
      "Epoch 18/30\n",
      "100/100 - 27s - loss: 0.3093 - acc: 0.8680 - val_loss: 0.2408 - val_acc: 0.9010\n",
      "Epoch 19/30\n",
      "100/100 - 27s - loss: 0.3011 - acc: 0.8745 - val_loss: 0.2384 - val_acc: 0.9060\n",
      "Epoch 20/30\n",
      "100/100 - 27s - loss: 0.3084 - acc: 0.8595 - val_loss: 0.2389 - val_acc: 0.9040\n",
      "Epoch 21/30\n",
      "100/100 - 27s - loss: 0.3065 - acc: 0.8680 - val_loss: 0.2393 - val_acc: 0.9040\n",
      "Epoch 22/30\n",
      "100/100 - 27s - loss: 0.2991 - acc: 0.8710 - val_loss: 0.2385 - val_acc: 0.9040\n",
      "Epoch 23/30\n",
      "100/100 - 27s - loss: 0.2890 - acc: 0.8780 - val_loss: 0.2542 - val_acc: 0.8970\n",
      "Epoch 24/30\n",
      "100/100 - 27s - loss: 0.2761 - acc: 0.8790 - val_loss: 0.2415 - val_acc: 0.9010\n",
      "Epoch 25/30\n",
      "100/100 - 27s - loss: 0.2820 - acc: 0.8825 - val_loss: 0.2370 - val_acc: 0.9040\n",
      "Epoch 26/30\n",
      "100/100 - 27s - loss: 0.2995 - acc: 0.8760 - val_loss: 0.2382 - val_acc: 0.9030\n",
      "Epoch 27/30\n",
      "100/100 - 27s - loss: 0.3004 - acc: 0.8750 - val_loss: 0.2352 - val_acc: 0.9060\n",
      "Epoch 28/30\n",
      "100/100 - 27s - loss: 0.2848 - acc: 0.8845 - val_loss: 0.2417 - val_acc: 0.8990\n",
      "Epoch 29/30\n",
      "100/100 - 27s - loss: 0.2876 - acc: 0.8820 - val_loss: 0.2344 - val_acc: 0.9040\n",
      "Epoch 30/30\n",
      "100/100 - 27s - loss: 0.2681 - acc: 0.8880 - val_loss: 0.2361 - val_acc: 0.9080\n"
     ]
    }
   ],
   "source": [
    "# 5-21利用冻结的卷积基端到端的训练模型\n",
    "from tensorflow.keras.preprocessing.image import ImageDataGenerator\n",
    "\n",
    "train_datagen = ImageDataGenerator(\n",
    "      rescale=1./255,\n",
    "      rotation_range=40,\n",
    "      width_shift_range=0.2,\n",
    "      height_shift_range=0.2,\n",
    "      shear_range=0.2,\n",
    "      zoom_range=0.2,\n",
    "      horizontal_flip=True,\n",
    "      fill_mode='nearest')\n",
    "\n",
    "test_datagen = ImageDataGenerator(rescale=1./255)\n",
    "\n",
    "train_generator = train_datagen.flow_from_directory(\n",
    "        # This is the target directory\n",
    "        train_dir,\n",
    "        # All images will be resized to 150x150\n",
    "        target_size=(150, 150),\n",
    "        batch_size=20,\n",
    "        # Since we use binary_crossentropy loss, we need binary labels\n",
    "        class_mode='binary')\n",
    "\n",
    "validation_generator = test_datagen.flow_from_directory(\n",
    "        validation_dir,\n",
    "        target_size=(150, 150),\n",
    "        batch_size=20,\n",
    "        class_mode='binary')\n",
    "\n",
    "model.compile(loss='binary_crossentropy',\n",
    "              optimizer=optimizers.RMSprop(lr=2e-5),\n",
    "              metrics=['acc'])\n",
    "\n",
    "history = model.fit_generator(\n",
    "      train_generator,\n",
    "      steps_per_epoch=100,\n",
    "      epochs=30,\n",
    "      validation_data=validation_generator,\n",
    "      validation_steps=50,\n",
    "      verbose=2)"
   ]
  },
  {
   "cell_type": "code",
   "execution_count": 16,
   "metadata": {},
   "outputs": [],
   "source": [
    "# 保存模型\n",
    "model.save('cats_and_dogs_small_3.h5')"
   ]
  },
  {
   "cell_type": "code",
   "execution_count": 17,
   "metadata": {},
   "outputs": [
    {
     "data": {
      "image/png": "[encoded data removed]",
      "text/plain": [
       "<Figure size 432x288 with 1 Axes>"
      ]
     },
     "metadata": {
      "needs_background": "light"
     },
     "output_type": "display_data"
    },
    {
     "data": {
      "image/png": "[encoded data removed]",
      "text/plain": [
       "<Figure size 432x288 with 1 Axes>"
      ]
     },
     "metadata": {
      "needs_background": "light"
     },
     "output_type": "display_data"
    }
   ],
   "source": [
    "#绘制结果\n",
    "acc = history.history['acc']\n",
    "val_acc = history.history['val_acc']\n",
    "loss = history.history['loss']\n",
    "val_loss = history.history['val_loss']\n",
    "\n",
    "epochs = range(len(acc))\n",
    "\n",
    "plt.plot(epochs, acc, 'bo', label='Training acc')\n",
    "plt.plot(epochs, val_acc, 'b', label='Validation acc')\n",
    "plt.title('Training and validation accuracy')\n",
    "plt.legend()\n",
    "\n",
    "plt.figure()\n",
    "\n",
    "plt.plot(epochs, loss, 'bo', label='Training loss')\n",
    "plt.plot(epochs, val_loss, 'b', label='Validation loss')\n",
    "plt.title('Training and validation loss')\n",
    "plt.legend()\n",
    "\n",
    "plt.show()"
   ]
  },
  {
   "cell_type": "markdown",
   "metadata": {},
   "source": [
    "# 微调模型\n",
    "另一种模型复用的方法是模型微调，微调是指将顶层的几层解冻，将这解冻的几层和新增加的部分联合训练。\n",
    "\n",
    "微调网络步骤如下\n",
    "1)将您的自定义网络添加到已经训练过的基本网络上。\n",
    "\n",
    "2)冻结基网络。\n",
    "\n",
    "3)训练你添加的部分。\n",
    "\n",
    "4)解冻基础网络中的一些层。\n",
    "\n",
    "5)训练解冻的和添加的部分。\n",
    "\n",
    "在进行特征提取时，我们已经完成了前三个步骤。让我们继续第四步：我们将解冻我们的conv_base，然后冻结其中部分层\n"
   ]
  },
  {
   "cell_type": "code",
   "execution_count": 18,
   "metadata": {},
   "outputs": [
    {
     "name": "stdout",
     "output_type": "stream",
     "text": [
      "Model: \"vgg16\"\n",
      "_________________________________________________________________\n",
      "Layer (type)                 Output Shape              Param #   \n",
      "=================================================================\n",
      "input_1 (InputLayer)         [(None, 150, 150, 3)]     0         \n",
      "_________________________________________________________________\n",
      "block1_conv1 (Conv2D)        (None, 150, 150, 64)      1792      \n",
      "_________________________________________________________________\n",
      "block1_conv2 (Conv2D)        (None, 150, 150, 64)      36928     \n",
      "_________________________________________________________________\n",
      "block1_pool (MaxPooling2D)   (None, 75, 75, 64)        0         \n",
      "_________________________________________________________________\n",
      "block2_conv1 (Conv2D)        (None, 75, 75, 128)       73856     \n",
      "_________________________________________________________________\n",
      "block2_conv2 (Conv2D)        (None, 75, 75, 128)       147584    \n",
      "_________________________________________________________________\n",
      "block2_pool (MaxPooling2D)   (None, 37, 37, 128)       0         \n",
      "_________________________________________________________________\n",
      "block3_conv1 (Conv2D)        (None, 37, 37, 256)       295168    \n",
      "_________________________________________________________________\n",
      "block3_conv2 (Conv2D)        (None, 37, 37, 256)       590080    \n",
      "_________________________________________________________________\n",
      "block3_conv3 (Conv2D)        (None, 37, 37, 256)       590080    \n",
      "_________________________________________________________________\n",
      "block3_pool (MaxPooling2D)   (None, 18, 18, 256)       0         \n",
      "_________________________________________________________________\n",
      "block4_conv1 (Conv2D)        (None, 18, 18, 512)       1180160   \n",
      "_________________________________________________________________\n",
      "block4_conv2 (Conv2D)        (None, 18, 18, 512)       2359808   \n",
      "_________________________________________________________________\n",
      "block4_conv3 (Conv2D)        (None, 18, 18, 512)       2359808   \n",
      "_________________________________________________________________\n",
      "block4_pool (MaxPooling2D)   (None, 9, 9, 512)         0         \n",
      "_________________________________________________________________\n",
      "block5_conv1 (Conv2D)        (None, 9, 9, 512)         2359808   \n",
      "_________________________________________________________________\n",
      "block5_conv2 (Conv2D)        (None, 9, 9, 512)         2359808   \n",
      "_________________________________________________________________\n",
      "block5_conv3 (Conv2D)        (None, 9, 9, 512)         2359808   \n",
      "_________________________________________________________________\n",
      "block5_pool (MaxPooling2D)   (None, 4, 4, 512)         0         \n",
      "=================================================================\n",
      "Total params: 14,714,688\n",
      "Trainable params: 0\n",
      "Non-trainable params: 14,714,688\n",
      "_________________________________________________________________\n"
     ]
    }
   ],
   "source": [
    "conv_base.summary()"
   ]
  },
  {
   "cell_type": "code",
   "execution_count": 19,
   "metadata": {},
   "outputs": [],
   "source": [
    "# 5-22冻结直到某一层的所有层\n",
    "conv_base.trainable = True\n",
    "\n",
    "set_trainable = False\n",
    "for layer in conv_base.layers:\n",
    "    if layer.name == 'block5_conv1':\n",
    "        set_trainable = True\n",
    "    if set_trainable:\n",
    "        layer.trainable = True\n",
    "    else:\n",
    "        layer.trainable = False"
   ]
  },
  {
   "cell_type": "code",
   "execution_count": 20,
   "metadata": {},
   "outputs": [
    {
     "name": "stdout",
     "output_type": "stream",
     "text": [
      "Epoch 1/100\n",
      "100/100 [==============================] - 28s 279ms/step - loss: 0.2933 - acc: 0.8685 - val_loss: 0.3375 - val_acc: 0.8680\n",
      "Epoch 2/100\n",
      "100/100 [==============================] - 28s 281ms/step - loss: 0.2428 - acc: 0.8900 - val_loss: 0.3399 - val_acc: 0.8720\n",
      "Epoch 3/100\n",
      "100/100 [==============================] - 28s 279ms/step - loss: 0.2324 - acc: 0.8980 - val_loss: 0.2208 - val_acc: 0.9170\n",
      "Epoch 4/100\n",
      "100/100 [==============================] - 28s 280ms/step - loss: 0.2088 - acc: 0.9090 - val_loss: 0.2078 - val_acc: 0.9150\n",
      "Epoch 5/100\n",
      "100/100 [==============================] - 28s 281ms/step - loss: 0.2030 - acc: 0.9115 - val_loss: 0.2103 - val_acc: 0.9240\n",
      "Epoch 6/100\n",
      "100/100 [==============================] - 28s 280ms/step - loss: 0.1982 - acc: 0.9185 - val_loss: 0.2336 - val_acc: 0.9090\n",
      "Epoch 7/100\n",
      "100/100 [==============================] - 28s 280ms/step - loss: 0.1723 - acc: 0.9285 - val_loss: 0.1913 - val_acc: 0.9260\n",
      "Epoch 8/100\n",
      "100/100 [==============================] - 28s 281ms/step - loss: 0.1770 - acc: 0.9325 - val_loss: 0.1898 - val_acc: 0.9240\n",
      "Epoch 9/100\n",
      "100/100 [==============================] - 28s 281ms/step - loss: 0.1659 - acc: 0.9315 - val_loss: 0.1927 - val_acc: 0.9270\n",
      "Epoch 10/100\n",
      "100/100 [==============================] - 28s 281ms/step - loss: 0.1524 - acc: 0.9370 - val_loss: 0.2009 - val_acc: 0.9180\n",
      "Epoch 11/100\n",
      "100/100 [==============================] - 28s 282ms/step - loss: 0.1496 - acc: 0.9435 - val_loss: 0.1833 - val_acc: 0.9320\n",
      "Epoch 12/100\n",
      "100/100 [==============================] - 28s 281ms/step - loss: 0.1414 - acc: 0.9385 - val_loss: 0.1944 - val_acc: 0.9200\n",
      "Epoch 13/100\n",
      "100/100 [==============================] - 28s 281ms/step - loss: 0.1436 - acc: 0.9440 - val_loss: 0.1969 - val_acc: 0.9300\n",
      "Epoch 14/100\n",
      "100/100 [==============================] - 28s 281ms/step - loss: 0.1251 - acc: 0.9585 - val_loss: 0.2816 - val_acc: 0.9150\n",
      "Epoch 15/100\n",
      "100/100 [==============================] - 28s 281ms/step - loss: 0.1160 - acc: 0.9530 - val_loss: 0.1734 - val_acc: 0.9330\n",
      "Epoch 16/100\n",
      "100/100 [==============================] - 28s 280ms/step - loss: 0.1261 - acc: 0.9495 - val_loss: 0.1781 - val_acc: 0.9270\n",
      "Epoch 17/100\n",
      "100/100 [==============================] - 28s 282ms/step - loss: 0.1181 - acc: 0.9540 - val_loss: 0.1967 - val_acc: 0.9310\n",
      "Epoch 18/100\n",
      "100/100 [==============================] - 28s 280ms/step - loss: 0.0914 - acc: 0.9630 - val_loss: 0.1753 - val_acc: 0.9330\n",
      "Epoch 19/100\n",
      "100/100 [==============================] - 28s 278ms/step - loss: 0.0921 - acc: 0.9665 - val_loss: 0.1875 - val_acc: 0.9330\n",
      "Epoch 20/100\n",
      "100/100 [==============================] - 28s 282ms/step - loss: 0.1102 - acc: 0.9570 - val_loss: 0.1709 - val_acc: 0.9320\n",
      "Epoch 21/100\n",
      "100/100 [==============================] - 28s 282ms/step - loss: 0.0833 - acc: 0.9670 - val_loss: 0.2989 - val_acc: 0.9150\n",
      "Epoch 22/100\n",
      "100/100 [==============================] - 28s 282ms/step - loss: 0.0901 - acc: 0.9655 - val_loss: 0.1957 - val_acc: 0.9310\n",
      "Epoch 23/100\n",
      "100/100 [==============================] - 28s 282ms/step - loss: 0.0936 - acc: 0.9620 - val_loss: 0.1887 - val_acc: 0.9360\n",
      "Epoch 24/100\n",
      "100/100 [==============================] - 28s 282ms/step - loss: 0.0891 - acc: 0.9630 - val_loss: 0.2124 - val_acc: 0.9300\n",
      "Epoch 25/100\n",
      "100/100 [==============================] - 28s 282ms/step - loss: 0.0816 - acc: 0.9700 - val_loss: 0.1952 - val_acc: 0.9270\n",
      "Epoch 26/100\n",
      "100/100 [==============================] - 28s 281ms/step - loss: 0.0733 - acc: 0.9720 - val_loss: 0.1879 - val_acc: 0.9370\n",
      "Epoch 27/100\n",
      "100/100 [==============================] - 28s 282ms/step - loss: 0.0730 - acc: 0.9720 - val_loss: 0.1878 - val_acc: 0.9350\n",
      "Epoch 28/100\n",
      "100/100 [==============================] - 28s 283ms/step - loss: 0.0641 - acc: 0.9780 - val_loss: 0.2107 - val_acc: 0.9310\n",
      "Epoch 29/100\n",
      "100/100 [==============================] - 28s 282ms/step - loss: 0.0793 - acc: 0.9695 - val_loss: 0.2356 - val_acc: 0.9280\n",
      "Epoch 30/100\n",
      "100/100 [==============================] - 28s 279ms/step - loss: 0.0646 - acc: 0.9765 - val_loss: 0.2040 - val_acc: 0.9320\n",
      "Epoch 31/100\n",
      "100/100 [==============================] - 28s 284ms/step - loss: 0.0732 - acc: 0.9700 - val_loss: 0.2027 - val_acc: 0.9300\n",
      "Epoch 32/100\n",
      "100/100 [==============================] - 28s 282ms/step - loss: 0.0657 - acc: 0.9785 - val_loss: 0.2248 - val_acc: 0.9300\n",
      "Epoch 33/100\n",
      "100/100 [==============================] - 28s 283ms/step - loss: 0.0721 - acc: 0.9725 - val_loss: 0.2102 - val_acc: 0.9360\n",
      "Epoch 34/100\n",
      "100/100 [==============================] - 28s 284ms/step - loss: 0.0653 - acc: 0.9745 - val_loss: 0.1938 - val_acc: 0.9400\n",
      "Epoch 35/100\n",
      "100/100 [==============================] - 28s 283ms/step - loss: 0.0612 - acc: 0.9750 - val_loss: 0.1737 - val_acc: 0.9370\n",
      "Epoch 36/100\n",
      "100/100 [==============================] - 28s 285ms/step - loss: 0.0436 - acc: 0.9855 - val_loss: 0.2057 - val_acc: 0.9410\n",
      "Epoch 37/100\n",
      "100/100 [==============================] - 28s 285ms/step - loss: 0.0642 - acc: 0.9725 - val_loss: 0.2119 - val_acc: 0.9360\n",
      "Epoch 38/100\n",
      "100/100 [==============================] - 28s 284ms/step - loss: 0.0583 - acc: 0.9805 - val_loss: 0.2156 - val_acc: 0.9370\n",
      "Epoch 39/100\n",
      "100/100 [==============================] - 28s 285ms/step - loss: 0.0466 - acc: 0.9845 - val_loss: 0.2217 - val_acc: 0.9390\n",
      "Epoch 40/100\n",
      "100/100 [==============================] - 28s 284ms/step - loss: 0.0456 - acc: 0.9830 - val_loss: 0.2806 - val_acc: 0.9250\n",
      "Epoch 41/100\n",
      "100/100 [==============================] - 28s 284ms/step - loss: 0.0460 - acc: 0.9845 - val_loss: 0.2666 - val_acc: 0.9310\n",
      "Epoch 42/100\n",
      "100/100 [==============================] - 28s 283ms/step - loss: 0.0495 - acc: 0.9795 - val_loss: 0.2209 - val_acc: 0.9390\n",
      "Epoch 43/100\n",
      "100/100 [==============================] - 28s 285ms/step - loss: 0.0514 - acc: 0.9810 - val_loss: 0.2365 - val_acc: 0.9390\n",
      "Epoch 44/100\n",
      "100/100 [==============================] - 28s 285ms/step - loss: 0.0553 - acc: 0.9805 - val_loss: 0.2717 - val_acc: 0.9340\n",
      "Epoch 45/100\n",
      "100/100 [==============================] - 28s 284ms/step - loss: 0.0482 - acc: 0.9835 - val_loss: 0.2047 - val_acc: 0.9420\n",
      "Epoch 46/100\n",
      "100/100 [==============================] - 28s 285ms/step - loss: 0.0474 - acc: 0.9795 - val_loss: 0.2897 - val_acc: 0.9170\n",
      "Epoch 47/100\n",
      "100/100 [==============================] - 28s 285ms/step - loss: 0.0367 - acc: 0.9885 - val_loss: 0.2372 - val_acc: 0.9430\n",
      "Epoch 48/100\n",
      "100/100 [==============================] - 28s 284ms/step - loss: 0.0389 - acc: 0.9825 - val_loss: 0.1909 - val_acc: 0.9390\n",
      "Epoch 49/100\n",
      "100/100 [==============================] - 28s 285ms/step - loss: 0.0353 - acc: 0.9860 - val_loss: 0.3182 - val_acc: 0.9260\n",
      "Epoch 50/100\n",
      "100/100 [==============================] - 28s 285ms/step - loss: 0.0436 - acc: 0.9835 - val_loss: 0.2134 - val_acc: 0.9450\n",
      "Epoch 51/100\n",
      "100/100 [==============================] - 28s 285ms/step - loss: 0.0417 - acc: 0.9855 - val_loss: 0.2182 - val_acc: 0.9370\n",
      "Epoch 52/100\n",
      "100/100 [==============================] - 28s 284ms/step - loss: 0.0360 - acc: 0.9860 - val_loss: 0.2087 - val_acc: 0.9350\n",
      "Epoch 53/100\n",
      "100/100 [==============================] - 29s 285ms/step - loss: 0.0308 - acc: 0.9880 - val_loss: 0.2438 - val_acc: 0.9410\n",
      "Epoch 54/100\n",
      "100/100 [==============================] - 28s 285ms/step - loss: 0.0283 - acc: 0.9870 - val_loss: 0.2914 - val_acc: 0.9300\n",
      "Epoch 55/100\n",
      "100/100 [==============================] - 28s 284ms/step - loss: 0.0452 - acc: 0.9860 - val_loss: 0.2246 - val_acc: 0.9410\n",
      "Epoch 56/100\n",
      "100/100 [==============================] - 28s 285ms/step - loss: 0.0377 - acc: 0.9865 - val_loss: 0.4344 - val_acc: 0.9100\n",
      "Epoch 57/100\n",
      "100/100 [==============================] - 29s 285ms/step - loss: 0.0368 - acc: 0.9890 - val_loss: 0.1976 - val_acc: 0.9400\n",
      "Epoch 58/100\n",
      "100/100 [==============================] - 28s 284ms/step - loss: 0.0430 - acc: 0.9850 - val_loss: 0.1942 - val_acc: 0.9440\n",
      "Epoch 59/100\n",
      "100/100 [==============================] - 29s 286ms/step - loss: 0.0410 - acc: 0.9865 - val_loss: 0.2490 - val_acc: 0.9440\n",
      "Epoch 60/100\n",
      "100/100 [==============================] - 29s 286ms/step - loss: 0.0280 - acc: 0.9885 - val_loss: 0.3046 - val_acc: 0.9340\n"
     ]
    },
    {
     "name": "stdout",
     "output_type": "stream",
     "text": [
      "Epoch 61/100\n",
      "100/100 [==============================] - 28s 285ms/step - loss: 0.0314 - acc: 0.9900 - val_loss: 0.2231 - val_acc: 0.9450\n",
      "Epoch 62/100\n",
      "100/100 [==============================] - 28s 285ms/step - loss: 0.0326 - acc: 0.9860 - val_loss: 0.2400 - val_acc: 0.9330\n",
      "Epoch 63/100\n",
      "100/100 [==============================] - 29s 285ms/step - loss: 0.0268 - acc: 0.9895 - val_loss: 0.2333 - val_acc: 0.9400\n",
      "Epoch 64/100\n",
      "100/100 [==============================] - 29s 285ms/step - loss: 0.0222 - acc: 0.9905 - val_loss: 0.4520 - val_acc: 0.9140\n",
      "Epoch 65/100\n",
      "100/100 [==============================] - 28s 284ms/step - loss: 0.0425 - acc: 0.9850 - val_loss: 0.2379 - val_acc: 0.9400\n",
      "Epoch 66/100\n",
      "100/100 [==============================] - 28s 285ms/step - loss: 0.0285 - acc: 0.9890 - val_loss: 0.4092 - val_acc: 0.9130\n",
      "Epoch 67/100\n",
      "100/100 [==============================] - 29s 286ms/step - loss: 0.0342 - acc: 0.9850 - val_loss: 0.2667 - val_acc: 0.9350\n",
      "Epoch 68/100\n",
      "100/100 [==============================] - 28s 284ms/step - loss: 0.0172 - acc: 0.9925 - val_loss: 0.2936 - val_acc: 0.9340\n",
      "Epoch 69/100\n",
      "100/100 [==============================] - 28s 284ms/step - loss: 0.0308 - acc: 0.9905 - val_loss: 0.2134 - val_acc: 0.9390\n",
      "Epoch 70/100\n",
      "100/100 [==============================] - 28s 285ms/step - loss: 0.0261 - acc: 0.9895 - val_loss: 0.2331 - val_acc: 0.9440\n",
      "Epoch 71/100\n",
      "100/100 [==============================] - 28s 285ms/step - loss: 0.0247 - acc: 0.9935 - val_loss: 0.2105 - val_acc: 0.9480\n",
      "Epoch 72/100\n",
      "100/100 [==============================] - 28s 283ms/step - loss: 0.0278 - acc: 0.9890 - val_loss: 0.2572 - val_acc: 0.9380\n",
      "Epoch 73/100\n",
      "100/100 [==============================] - 28s 284ms/step - loss: 0.0287 - acc: 0.9885 - val_loss: 0.4095 - val_acc: 0.9190\n",
      "Epoch 74/100\n",
      "100/100 [==============================] - 28s 284ms/step - loss: 0.0302 - acc: 0.9880 - val_loss: 0.2429 - val_acc: 0.9460\n",
      "Epoch 75/100\n",
      "100/100 [==============================] - 28s 285ms/step - loss: 0.0302 - acc: 0.9905 - val_loss: 0.2624 - val_acc: 0.9370\n",
      "Epoch 76/100\n",
      "100/100 [==============================] - 28s 282ms/step - loss: 0.0234 - acc: 0.9930 - val_loss: 0.2227 - val_acc: 0.9350\n",
      "Epoch 77/100\n",
      "100/100 [==============================] - 29s 285ms/step - loss: 0.0318 - acc: 0.9905 - val_loss: 0.2229 - val_acc: 0.9380\n",
      "Epoch 78/100\n",
      "100/100 [==============================] - 28s 281ms/step - loss: 0.0213 - acc: 0.9925 - val_loss: 0.3256 - val_acc: 0.9240\n",
      "Epoch 79/100\n",
      "100/100 [==============================] - 28s 280ms/step - loss: 0.0242 - acc: 0.9920 - val_loss: 0.2520 - val_acc: 0.9420\n",
      "Epoch 80/100\n",
      "100/100 [==============================] - 28s 279ms/step - loss: 0.0234 - acc: 0.9925 - val_loss: 0.2381 - val_acc: 0.9440\n",
      "Epoch 81/100\n",
      "100/100 [==============================] - 28s 279ms/step - loss: 0.0234 - acc: 0.9925 - val_loss: 0.2563 - val_acc: 0.9400\n",
      "Epoch 82/100\n",
      "100/100 [==============================] - 28s 279ms/step - loss: 0.0204 - acc: 0.9915 - val_loss: 0.2305 - val_acc: 0.9400\n",
      "Epoch 83/100\n",
      "100/100 [==============================] - 28s 282ms/step - loss: 0.0158 - acc: 0.9955 - val_loss: 0.2259 - val_acc: 0.9420\n",
      "Epoch 84/100\n",
      "100/100 [==============================] - 28s 278ms/step - loss: 0.0241 - acc: 0.9930 - val_loss: 0.2414 - val_acc: 0.9450\n",
      "Epoch 85/100\n",
      "100/100 [==============================] - 28s 278ms/step - loss: 0.0182 - acc: 0.9920 - val_loss: 0.2839 - val_acc: 0.9300\n",
      "Epoch 86/100\n",
      "100/100 [==============================] - 28s 279ms/step - loss: 0.0179 - acc: 0.9930 - val_loss: 0.3007 - val_acc: 0.9360\n",
      "Epoch 87/100\n",
      "100/100 [==============================] - 28s 280ms/step - loss: 0.0208 - acc: 0.9935 - val_loss: 0.2855 - val_acc: 0.9410\n",
      "Epoch 88/100\n",
      "100/100 [==============================] - 28s 278ms/step - loss: 0.0261 - acc: 0.9895 - val_loss: 0.2662 - val_acc: 0.9350\n",
      "Epoch 89/100\n",
      "100/100 [==============================] - 28s 279ms/step - loss: 0.0192 - acc: 0.9940 - val_loss: 0.2444 - val_acc: 0.9490\n",
      "Epoch 90/100\n",
      "100/100 [==============================] - 28s 281ms/step - loss: 0.0222 - acc: 0.9940 - val_loss: 0.3169 - val_acc: 0.9300\n",
      "Epoch 91/100\n",
      "100/100 [==============================] - 28s 279ms/step - loss: 0.0166 - acc: 0.9945 - val_loss: 0.2518 - val_acc: 0.9390\n",
      "Epoch 92/100\n",
      "100/100 [==============================] - 28s 284ms/step - loss: 0.0192 - acc: 0.9945 - val_loss: 0.3114 - val_acc: 0.9350\n",
      "Epoch 93/100\n",
      "100/100 [==============================] - 28s 280ms/step - loss: 0.0253 - acc: 0.9915 - val_loss: 0.2613 - val_acc: 0.9460\n",
      "Epoch 94/100\n",
      "100/100 [==============================] - 28s 281ms/step - loss: 0.0242 - acc: 0.9925 - val_loss: 0.2753 - val_acc: 0.9400\n",
      "Epoch 95/100\n",
      "100/100 [==============================] - 28s 280ms/step - loss: 0.0206 - acc: 0.9935 - val_loss: 0.3259 - val_acc: 0.9360\n",
      "Epoch 96/100\n",
      "100/100 [==============================] - 28s 278ms/step - loss: 0.0175 - acc: 0.9940 - val_loss: 0.2564 - val_acc: 0.9430\n",
      "Epoch 97/100\n",
      "100/100 [==============================] - 28s 280ms/step - loss: 0.0187 - acc: 0.9915 - val_loss: 0.2633 - val_acc: 0.9420\n",
      "Epoch 98/100\n",
      "100/100 [==============================] - 28s 280ms/step - loss: 0.0229 - acc: 0.9910 - val_loss: 0.2737 - val_acc: 0.9390\n",
      "Epoch 99/100\n",
      "100/100 [==============================] - 28s 283ms/step - loss: 0.0206 - acc: 0.9950 - val_loss: 0.2753 - val_acc: 0.9420\n",
      "Epoch 100/100\n",
      "100/100 [==============================] - 28s 284ms/step - loss: 0.0234 - acc: 0.9945 - val_loss: 0.3367 - val_acc: 0.9310\n"
     ]
    }
   ],
   "source": [
    "# 5-23微调模型\n",
    "model.compile(loss='binary_crossentropy',\n",
    "              optimizer=optimizers.RMSprop(lr=1e-5),\n",
    "              metrics=['acc'])\n",
    "\n",
    "history = model.fit_generator(\n",
    "      train_generator,\n",
    "      steps_per_epoch=100,\n",
    "      epochs=100,\n",
    "      validation_data=validation_generator,\n",
    "      validation_steps=50)"
   ]
  },
  {
   "cell_type": "code",
   "execution_count": 21,
   "metadata": {},
   "outputs": [
    {
     "data": {
      "image/png": "[encoded data removed]",
      "text/plain": [
       "<Figure size 432x288 with 1 Axes>"
      ]
     },
     "metadata": {
      "needs_background": "light"
     },
     "output_type": "display_data"
    },
    {
     "data": {
      "image/png": "[encoded data removed]",
      "text/plain": [
       "<Figure size 432x288 with 1 Axes>"
      ]
     },
     "metadata": {
      "needs_background": "light"
     },
     "output_type": "display_data"
    }
   ],
   "source": [
    "# 绘制结果\n",
    "acc = history.history['acc']\n",
    "val_acc = history.history['val_acc']\n",
    "loss = history.history['loss']\n",
    "val_loss = history.history['val_loss']\n",
    "\n",
    "epochs = range(len(acc))\n",
    "\n",
    "plt.plot(epochs, acc, 'bo', label='Training acc')\n",
    "plt.plot(epochs, val_acc, 'b', label='Validation acc')\n",
    "plt.title('Training and validation accuracy')\n",
    "plt.legend()\n",
    "\n",
    "plt.figure()\n",
    "\n",
    "plt.plot(epochs, loss, 'bo', label='Training loss')\n",
    "plt.plot(epochs, val_loss, 'b', label='Validation loss')\n",
    "plt.title('Training and validation loss')\n",
    "plt.legend()\n",
    "\n",
    "plt.show()"
   ]
  },
  {
   "cell_type": "code",
   "execution_count": 22,
   "metadata": {},
   "outputs": [
    {
     "data": {
      "image/png": "[encoded data removed]",
      "text/plain": [
       "<Figure size 432x288 with 1 Axes>"
      ]
     },
     "metadata": {
      "needs_background": "light"
     },
     "output_type": "display_data"
    },
    {
     "data": {
      "image/png": "[encoded data removed]",
      "text/plain": [
       "<Figure size 432x288 with 1 Axes>"
      ]
     },
     "metadata": {
      "needs_background": "light"
     },
     "output_type": "display_data"
    }
   ],
   "source": [
    "# 5-24使曲线变得平滑\n",
    "def smooth_curve(points, factor=0.8):\n",
    "  smoothed_points = []\n",
    "  for point in points:\n",
    "    if smoothed_points:\n",
    "      previous = smoothed_points[-1]\n",
    "      smoothed_points.append(previous * factor + point * (1 - factor))\n",
    "    else:\n",
    "      smoothed_points.append(point)\n",
    "  return smoothed_points\n",
    "\n",
    "plt.plot(epochs,\n",
    "         smooth_curve(acc), 'bo', label='Smoothed training acc')\n",
    "plt.plot(epochs,\n",
    "         smooth_curve(val_acc), 'b', label='Smoothed validation acc')\n",
    "plt.title('Training and validation accuracy')\n",
    "plt.legend()\n",
    "\n",
    "plt.figure()\n",
    "\n",
    "plt.plot(epochs,\n",
    "         smooth_curve(loss), 'bo', label='Smoothed training loss')\n",
    "plt.plot(epochs,\n",
    "         smooth_curve(val_loss), 'b', label='Smoothed validation loss')\n",
    "plt.title('Training and validation loss')\n",
    "plt.legend()\n",
    "\n",
    "plt.show()"
   ]
  },
  {
   "cell_type": "code",
   "execution_count": null,
   "metadata": {},
   "outputs": [],
   "source": [
    "# 在测试数据上最终评估这个模型\n",
    "test_generator = test_datagen.flow_from_directory(\n",
    "        test_dir,\n",
    "        target_size=(150, 150),\n",
    "        batch_size=20,\n",
    "        class_mode='binary')\n",
    "\n",
    "test_loss, test_acc = model.evaluate_generator(test_generator, steps=50)\n",
    "print('test acc:', test_acc)"
   ]
  },
  {
   "cell_type": "code",
   "execution_count": null,
   "metadata": {},
   "outputs": [],
   "source": []
  },
  {
   "cell_type": "code",
   "execution_count": null,
   "metadata": {},
   "outputs": [],
   "source": []
  }
 ],
 "metadata": {
  "kernelspec": {
   "display_name": "Python 3",
   "language": "python",
   "name": "python3"
  },
  "language_info": {
   "codemirror_mode": {
    "name": "ipython",
    "version": 3
   },
   "file_extension": ".py",
   "mimetype": "text/x-python",
   "name": "python",
   "nbconvert_exporter": "python",
   "pygments_lexer": "ipython3",
   "version": "3.7.3"
  }
 },
 "nbformat": 4,
 "nbformat_minor": 2
}
